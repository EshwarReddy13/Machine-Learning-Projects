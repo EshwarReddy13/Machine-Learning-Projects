{
  "nbformat": 4,
  "nbformat_minor": 0,
  "metadata": {
    "colab": {
      "name": "Climate and Covid Cases Clustering using K Means.ipynb",
      "provenance": [],
      "collapsed_sections": []
    },
    "kernelspec": {
      "display_name": "Python 3",
      "language": "python",
      "name": "python3"
    },
    "language_info": {
      "codemirror_mode": {
        "name": "ipython",
        "version": 3
      },
      "file_extension": ".py",
      "mimetype": "text/x-python",
      "name": "python",
      "nbconvert_exporter": "python",
      "pygments_lexer": "ipython3",
      "version": "3.8.5"
    }
  },
  "cells": [
    {
      "cell_type": "markdown",
      "metadata": {
        "id": "AwfJxFEAbkns"
      },
      "source": [
        "Problem description:\n",
        "The weather data (March - July 2020) from four different locations (Arizona, Florida, New York, and Washington)  in the United States with varying climatic conditions is utilized to assess effect of weather parameters on the COIVD-19 spread.  \n",
        "Objective: Cluster the data using K-means algorithm. "
      ]
    },
    {
      "cell_type": "markdown",
      "metadata": {
        "id": "Zqupal8KSYo_"
      },
      "source": [
        "# Import the Libraries"
      ]
    },
    {
      "cell_type": "code",
      "metadata": {
        "id": "I6wFpDSU0cUZ"
      },
      "source": [
        "import numpy as np\n",
        "import matplotlib.pyplot as plt\n",
        "import pandas as pd\n",
        "import seaborn as sns\n",
        "import sklearn"
      ],
      "execution_count": null,
      "outputs": []
    },
    {
      "cell_type": "markdown",
      "metadata": {
        "id": "9Tyhrm3DSdOl"
      },
      "source": [
        "# Load the Dataset"
      ]
    },
    {
      "cell_type": "code",
      "metadata": {
        "colab": {
          "base_uri": "https://localhost:8080/",
          "height": 218
        },
        "id": "wKIe2Vz82OK3",
        "outputId": "9679468d-2bb3-42b7-db2c-2a2c1fc77a56"
      },
      "source": [
        "df = pd.read_csv(\"COVID-19_Weather.csv\")\n",
        "df.head()"
      ],
      "execution_count": null,
      "outputs": [
        {
          "data": {
            "text/html": [
              "<div>\n",
              "<style scoped>\n",
              "    .dataframe tbody tr th:only-of-type {\n",
              "        vertical-align: middle;\n",
              "    }\n",
              "\n",
              "    .dataframe tbody tr th {\n",
              "        vertical-align: top;\n",
              "    }\n",
              "\n",
              "    .dataframe thead th {\n",
              "        text-align: right;\n",
              "    }\n",
              "</style>\n",
              "<table border=\"1\" class=\"dataframe\">\n",
              "  <thead>\n",
              "    <tr style=\"text-align: right;\">\n",
              "      <th></th>\n",
              "      <th>STATE</th>\n",
              "      <th>DATE</th>\n",
              "      <th>CASES</th>\n",
              "      <th>CASES_PER_DAY</th>\n",
              "      <th>DEATHS</th>\n",
              "      <th>RECOVERED</th>\n",
              "      <th>AVG_TEMP</th>\n",
              "      <th>DEWP</th>\n",
              "      <th>WDSP</th>\n",
              "      <th>MAX_TEMP</th>\n",
              "      <th>MIN_TEMP</th>\n",
              "      <th>PRCP</th>\n",
              "      <th>DAILY_AQI</th>\n",
              "      <th>PM</th>\n",
              "    </tr>\n",
              "  </thead>\n",
              "  <tbody>\n",
              "    <tr>\n",
              "      <th>0</th>\n",
              "      <td>Arizona</td>\n",
              "      <td>3/10/2020</td>\n",
              "      <td>6</td>\n",
              "      <td>6</td>\n",
              "      <td>0</td>\n",
              "      <td>1</td>\n",
              "      <td>67.4</td>\n",
              "      <td>44.6</td>\n",
              "      <td>3.0</td>\n",
              "      <td>75.0</td>\n",
              "      <td>53.1</td>\n",
              "      <td>0.01</td>\n",
              "      <td>17</td>\n",
              "      <td>4.0</td>\n",
              "    </tr>\n",
              "    <tr>\n",
              "      <th>1</th>\n",
              "      <td>Arizona</td>\n",
              "      <td>3/11/2020</td>\n",
              "      <td>9</td>\n",
              "      <td>3</td>\n",
              "      <td>0</td>\n",
              "      <td>1</td>\n",
              "      <td>62.5</td>\n",
              "      <td>58.7</td>\n",
              "      <td>1.7</td>\n",
              "      <td>73.9</td>\n",
              "      <td>60.1</td>\n",
              "      <td>0.21</td>\n",
              "      <td>14</td>\n",
              "      <td>3.4</td>\n",
              "    </tr>\n",
              "    <tr>\n",
              "      <th>2</th>\n",
              "      <td>Arizona</td>\n",
              "      <td>3/12/2020</td>\n",
              "      <td>9</td>\n",
              "      <td>0</td>\n",
              "      <td>0</td>\n",
              "      <td>1</td>\n",
              "      <td>64.7</td>\n",
              "      <td>60.1</td>\n",
              "      <td>1.4</td>\n",
              "      <td>71.1</td>\n",
              "      <td>59.0</td>\n",
              "      <td>0.74</td>\n",
              "      <td>21</td>\n",
              "      <td>5.1</td>\n",
              "    </tr>\n",
              "    <tr>\n",
              "      <th>3</th>\n",
              "      <td>Arizona</td>\n",
              "      <td>3/13/2020</td>\n",
              "      <td>9</td>\n",
              "      <td>0</td>\n",
              "      <td>0</td>\n",
              "      <td>1</td>\n",
              "      <td>58.5</td>\n",
              "      <td>50.5</td>\n",
              "      <td>4.1</td>\n",
              "      <td>71.1</td>\n",
              "      <td>51.1</td>\n",
              "      <td>0.83</td>\n",
              "      <td>12</td>\n",
              "      <td>2.8</td>\n",
              "    </tr>\n",
              "    <tr>\n",
              "      <th>4</th>\n",
              "      <td>Arizona</td>\n",
              "      <td>3/14/2020</td>\n",
              "      <td>12</td>\n",
              "      <td>3</td>\n",
              "      <td>0</td>\n",
              "      <td>1</td>\n",
              "      <td>57.1</td>\n",
              "      <td>47.0</td>\n",
              "      <td>3.7</td>\n",
              "      <td>72.0</td>\n",
              "      <td>48.0</td>\n",
              "      <td>0.38</td>\n",
              "      <td>17</td>\n",
              "      <td>4.1</td>\n",
              "    </tr>\n",
              "  </tbody>\n",
              "</table>\n",
              "</div>"
            ],
            "text/plain": [
              "     STATE       DATE  CASES  CASES_PER_DAY  ...  MIN_TEMP  PRCP  DAILY_AQI   PM\n",
              "0  Arizona  3/10/2020      6              6  ...      53.1  0.01         17  4.0\n",
              "1  Arizona  3/11/2020      9              3  ...      60.1  0.21         14  3.4\n",
              "2  Arizona  3/12/2020      9              0  ...      59.0  0.74         21  5.1\n",
              "3  Arizona  3/13/2020      9              0  ...      51.1  0.83         12  2.8\n",
              "4  Arizona  3/14/2020     12              3  ...      48.0  0.38         17  4.1\n",
              "\n",
              "[5 rows x 14 columns]"
            ]
          },
          "execution_count": 265,
          "metadata": {
            "tags": []
          },
          "output_type": "execute_result"
        }
      ]
    },
    {
      "cell_type": "markdown",
      "metadata": {
        "id": "-zKZUBIMSjO8"
      },
      "source": [
        "# Exploratory Data Analysis"
      ]
    },
    {
      "cell_type": "code",
      "metadata": {
        "colab": {
          "base_uri": "https://localhost:8080/",
          "height": 52
        },
        "id": "EU15miSLxidX",
        "outputId": "893a063f-ac6a-4ebe-9216-a9bd5d2d6ed4"
      },
      "source": [
        "print(\"type before converting: \",df['DATE'].dtype)\n",
        "df['DATE']=pd.to_datetime(df['DATE'])   #use pd.to_datetime() to convert the column into type datetime\n",
        "print(\"type before converting: \",df['DATE'].dtype)\n",
        "\n",
        "#some values in the column 'CASES_PER_DAY' are negative, we will only consider positive values for our analysis.\n",
        "df=df[df['CASES_PER_DAY']>=0]    "
      ],
      "execution_count": null,
      "outputs": [
        {
          "name": "stdout",
          "output_type": "stream",
          "text": [
            "type before converting:  object\n",
            "type before converting:  datetime64[ns]\n"
          ]
        }
      ]
    },
    {
      "cell_type": "code",
      "metadata": {
        "colab": {
          "base_uri": "https://localhost:8080/",
          "height": 1000
        },
        "id": "5fSlPqnkxsnp",
        "outputId": "ab3c193b-0778-4f3f-8991-da743758e07f"
      },
      "source": [
        "# plot of 'CASES' vs 'DATE' for every state \n",
        "data_Arizona = df[df['STATE']=='Arizona'] # create a new DataFrame for all data of Arizona\n",
        "plt.figure(figsize=(10,10)) #define tbe size of the figure\n",
        "plt.plot(data_Arizona['DATE'],data_Arizona['CASES']) #plot the timeseries of date vs number of cases.\n",
        "plt.xlabel(\"Date\")\n",
        "plt.ylabel(\"Cases\")\n",
        "plt.title(\"Arizona\")\n",
        "\n",
        "data_Florida = df[df['STATE']=='Florida'] # create a new DataFrame for all data of Florida\n",
        "plt.figure(figsize=(10,10))\n",
        "plt.plot(data_Florida['DATE'],data_Florida['CASES'])\n",
        "plt.xlabel(\"Date\")\n",
        "plt.ylabel(\"Cases\")\n",
        "plt.title(\"Florida\")\n",
        "\n",
        "data_NY = df[df['STATE']=='New York'] # create a new DataFrame for all data of New York\n",
        "plt.figure(figsize=(10,10))\n",
        "plt.plot(data_NY['DATE'],data_NY['CASES'])\n",
        "plt.xlabel(\"Date\")\n",
        "plt.ylabel(\"Cases\")\n",
        "plt.title(\"New York\")\n",
        "\n",
        "data_Washington = df[df['STATE']=='Washington'] # create a new DataFrame for all data of Washington\n",
        "plt.figure(figsize=(10,10))\n",
        "plt.plot(data_Washington['DATE'],data_Washington['CASES'])\n",
        "plt.xlabel(\"Date\")\n",
        "plt.ylabel(\"Cases\")\n",
        "plt.title(\"Washington\")"
      ],
      "execution_count": null,
      "outputs": [
        {
          "data": {
            "text/plain": [
              "Text(0.5, 1.0, 'Washington')"
            ]
          },
          "execution_count": 268,
          "metadata": {
            "tags": []
          },
          "output_type": "execute_result"
        },
        {
          "data": {
            "image/png": "[encoded data removed]",
            "text/plain": [
              "<Figure size 720x720 with 1 Axes>"
            ]
          },
          "metadata": {
            "needs_background": "light",
            "tags": []
          },
          "output_type": "display_data"
        },
        {
          "data": {
            "image/png": "[encoded data removed]",
            "text/plain": [
              "<Figure size 720x720 with 1 Axes>"
            ]
          },
          "metadata": {
            "needs_background": "light",
            "tags": []
          },
          "output_type": "display_data"
        },
        {
          "data": {
            "image/png": "[encoded data removed]",
            "text/plain": [
              "<Figure size 720x720 with 1 Axes>"
            ]
          },
          "metadata": {
            "needs_background": "light",
            "tags": []
          },
          "output_type": "display_data"
        },
        {
          "data": {
            "image/png": "[encoded data removed]",
            "text/plain": [
              "<Figure size 720x720 with 1 Axes>"
            ]
          },
          "metadata": {
            "needs_background": "light",
            "tags": []
          },
          "output_type": "display_data"
        }
      ]
    },
    {
      "cell_type": "code",
      "metadata": {
        "colab": {
          "base_uri": "https://localhost:8080/",
          "height": 296
        },
        "id": "IW1FqWND2rSE",
        "outputId": "6d77d7f9-a8b5-41a1-d2ed-230380960a60"
      },
      "source": [
        "#plot histogram of average temeprature and windspeed\n",
        "plt.hist(df['AVG_TEMP'],edgecolor=\"black\")\n",
        "plt.xlabel(\"temperature ('F)\")\n",
        "plt.ylabel('frequency')"
      ],
      "execution_count": null,
      "outputs": [
        {
          "data": {
            "text/plain": [
              "Text(0, 0.5, 'frequency')"
            ]
          },
          "execution_count": 269,
          "metadata": {
            "tags": []
          },
          "output_type": "execute_result"
        },
        {
          "data": {
            "image/png": "[encoded data removed]",
            "text/plain": [
              "<Figure size 432x288 with 1 Axes>"
            ]
          },
          "metadata": {
            "needs_background": "light",
            "tags": []
          },
          "output_type": "display_data"
        }
      ]
    },
    {
      "cell_type": "code",
      "metadata": {
        "colab": {
          "base_uri": "https://localhost:8080/",
          "height": 296
        },
        "id": "gc0oxyPz3mBY",
        "outputId": "ab87d058-2101-4ac4-84ee-acce13ddfdf4"
      },
      "source": [
        "plt.hist(df['WDSP'],edgecolor=\"black\")\n",
        "plt.xlabel(\"Wind Speed (m/s)\")\n",
        "plt.ylabel('frequency')"
      ],
      "execution_count": null,
      "outputs": [
        {
          "data": {
            "text/plain": [
              "Text(0, 0.5, 'frequency')"
            ]
          },
          "execution_count": 270,
          "metadata": {
            "tags": []
          },
          "output_type": "execute_result"
        },
        {
          "data": {
            "image/png": "[encoded data removed]",
            "text/plain": [
              "<Figure size 432x288 with 1 Axes>"
            ]
          },
          "metadata": {
            "needs_background": "light",
            "tags": []
          },
          "output_type": "display_data"
        }
      ]
    },
    {
      "cell_type": "code",
      "metadata": {
        "colab": {
          "base_uri": "https://localhost:8080/",
          "height": 300
        },
        "id": "j9jtaqa54Bc4",
        "outputId": "0e9571f5-498e-492e-b745-5565effc843d"
      },
      "source": [
        "# scatter plot of total number of daily cases vs average temperature\n",
        "\n",
        "plt.scatter(df['AVG_TEMP'],df['CASES_PER_DAY'])\n",
        "plt.xlabel(\"Average temperature\")\n",
        "plt.ylabel(\"Cases per day\")"
      ],
      "execution_count": null,
      "outputs": [
        {
          "data": {
            "text/plain": [
              "Text(0, 0.5, 'Cases per day')"
            ]
          },
          "execution_count": 271,
          "metadata": {
            "tags": []
          },
          "output_type": "execute_result"
        },
        {
          "data": {
            "image/png": "[encoded data removed]",
            "text/plain": [
              "<Figure size 432x288 with 1 Axes>"
            ]
          },
          "metadata": {
            "needs_background": "light",
            "tags": []
          },
          "output_type": "display_data"
        }
      ]
    },
    {
      "cell_type": "code",
      "metadata": {
        "colab": {
          "base_uri": "https://localhost:8080/",
          "height": 300
        },
        "id": "rDcI8Nut4fcn",
        "outputId": "7c86c83a-458c-45e6-9ad8-3871a8982134"
      },
      "source": [
        "# scatter plot of total number of daily cases vs wind speed\n",
        "plt.scatter(df['WDSP'],df['CASES_PER_DAY'])\n",
        "plt.xlabel(\"Windspeed\")\n",
        "plt.ylabel(\"Cases per day\")"
      ],
      "execution_count": null,
      "outputs": [
        {
          "data": {
            "text/plain": [
              "Text(0, 0.5, 'Cases per day')"
            ]
          },
          "execution_count": 272,
          "metadata": {
            "tags": []
          },
          "output_type": "execute_result"
        },
        {
          "data": {
            "image/png": "[encoded data removed]",
            "text/plain": [
              "<Figure size 432x288 with 1 Axes>"
            ]
          },
          "metadata": {
            "needs_background": "light",
            "tags": []
          },
          "output_type": "display_data"
        }
      ]
    },
    {
      "cell_type": "markdown",
      "metadata": {
        "id": "BGPYLpgISzRZ"
      },
      "source": [
        "# Clustering of temperature and number of daily cases data using K-Means clustering"
      ]
    },
    {
      "cell_type": "code",
      "metadata": {
        "colab": {
          "base_uri": "https://localhost:8080/",
          "height": 198
        },
        "id": "StvOc-ms4rY0",
        "outputId": "5f79c7de-eed1-45c3-a54f-51c9096036d2"
      },
      "source": [
        "# create new data with only cases per day and average temperature\n",
        "# we wish to cluster the dataset with respect to cases per day and average temperature\n",
        "\n",
        "data = df[['AVG_TEMP','CASES_PER_DAY']]\n",
        "data.head()"
      ],
      "execution_count": null,
      "outputs": [
        {
          "data": {
            "text/html": [
              "<div>\n",
              "<style scoped>\n",
              "    .dataframe tbody tr th:only-of-type {\n",
              "        vertical-align: middle;\n",
              "    }\n",
              "\n",
              "    .dataframe tbody tr th {\n",
              "        vertical-align: top;\n",
              "    }\n",
              "\n",
              "    .dataframe thead th {\n",
              "        text-align: right;\n",
              "    }\n",
              "</style>\n",
              "<table border=\"1\" class=\"dataframe\">\n",
              "  <thead>\n",
              "    <tr style=\"text-align: right;\">\n",
              "      <th></th>\n",
              "      <th>AVG_TEMP</th>\n",
              "      <th>CASES_PER_DAY</th>\n",
              "    </tr>\n",
              "  </thead>\n",
              "  <tbody>\n",
              "    <tr>\n",
              "      <th>0</th>\n",
              "      <td>67.4</td>\n",
              "      <td>6</td>\n",
              "    </tr>\n",
              "    <tr>\n",
              "      <th>1</th>\n",
              "      <td>62.5</td>\n",
              "      <td>3</td>\n",
              "    </tr>\n",
              "    <tr>\n",
              "      <th>2</th>\n",
              "      <td>64.7</td>\n",
              "      <td>0</td>\n",
              "    </tr>\n",
              "    <tr>\n",
              "      <th>3</th>\n",
              "      <td>58.5</td>\n",
              "      <td>0</td>\n",
              "    </tr>\n",
              "    <tr>\n",
              "      <th>4</th>\n",
              "      <td>57.1</td>\n",
              "      <td>3</td>\n",
              "    </tr>\n",
              "  </tbody>\n",
              "</table>\n",
              "</div>"
            ],
            "text/plain": [
              "   AVG_TEMP  CASES_PER_DAY\n",
              "0      67.4              6\n",
              "1      62.5              3\n",
              "2      64.7              0\n",
              "3      58.5              0\n",
              "4      57.1              3"
            ]
          },
          "execution_count": 273,
          "metadata": {
            "tags": []
          },
          "output_type": "execute_result"
        }
      ]
    },
    {
      "cell_type": "code",
      "metadata": {
        "colab": {
          "base_uri": "https://localhost:8080/",
          "height": 288
        },
        "id": "dxJpDd0s8W4l",
        "outputId": "60d3b53b-cb1a-47df-e5ee-e2aebd8e5576"
      },
      "source": [
        "# get statistical information regarding the dataset\n",
        "data.describe()"
      ],
      "execution_count": null,
      "outputs": [
        {
          "data": {
            "text/html": [
              "<div>\n",
              "<style scoped>\n",
              "    .dataframe tbody tr th:only-of-type {\n",
              "        vertical-align: middle;\n",
              "    }\n",
              "\n",
              "    .dataframe tbody tr th {\n",
              "        vertical-align: top;\n",
              "    }\n",
              "\n",
              "    .dataframe thead th {\n",
              "        text-align: right;\n",
              "    }\n",
              "</style>\n",
              "<table border=\"1\" class=\"dataframe\">\n",
              "  <thead>\n",
              "    <tr style=\"text-align: right;\">\n",
              "      <th></th>\n",
              "      <th>AVG_TEMP</th>\n",
              "      <th>CASES_PER_DAY</th>\n",
              "    </tr>\n",
              "  </thead>\n",
              "  <tbody>\n",
              "    <tr>\n",
              "      <th>count</th>\n",
              "      <td>449.000000</td>\n",
              "      <td>449.000000</td>\n",
              "    </tr>\n",
              "    <tr>\n",
              "      <th>mean</th>\n",
              "      <td>68.439866</td>\n",
              "      <td>1465.837416</td>\n",
              "    </tr>\n",
              "    <tr>\n",
              "      <th>std</th>\n",
              "      <td>14.853733</td>\n",
              "      <td>2296.907618</td>\n",
              "    </tr>\n",
              "    <tr>\n",
              "      <th>min</th>\n",
              "      <td>38.200000</td>\n",
              "      <td>0.000000</td>\n",
              "    </tr>\n",
              "    <tr>\n",
              "      <th>25%</th>\n",
              "      <td>55.600000</td>\n",
              "      <td>245.000000</td>\n",
              "    </tr>\n",
              "    <tr>\n",
              "      <th>50%</th>\n",
              "      <td>69.600000</td>\n",
              "      <td>559.000000</td>\n",
              "    </tr>\n",
              "    <tr>\n",
              "      <th>75%</th>\n",
              "      <td>81.100000</td>\n",
              "      <td>1371.000000</td>\n",
              "    </tr>\n",
              "    <tr>\n",
              "      <th>max</th>\n",
              "      <td>97.400000</td>\n",
              "      <td>11434.000000</td>\n",
              "    </tr>\n",
              "  </tbody>\n",
              "</table>\n",
              "</div>"
            ],
            "text/plain": [
              "         AVG_TEMP  CASES_PER_DAY\n",
              "count  449.000000     449.000000\n",
              "mean    68.439866    1465.837416\n",
              "std     14.853733    2296.907618\n",
              "min     38.200000       0.000000\n",
              "25%     55.600000     245.000000\n",
              "50%     69.600000     559.000000\n",
              "75%     81.100000    1371.000000\n",
              "max     97.400000   11434.000000"
            ]
          },
          "execution_count": 274,
          "metadata": {
            "tags": []
          },
          "output_type": "execute_result"
        }
      ]
    },
    {
      "cell_type": "markdown",
      "metadata": {
        "id": "NUW-XKVJTP-4"
      },
      "source": [
        "Data Standardization"
      ]
    },
    {
      "cell_type": "code",
      "metadata": {
        "id": "1akOP07q6gzP"
      },
      "source": [
        "# before applying K-Means algorithm on the dataset, we need to standardize the dataset. \n",
        "\n",
        "from sklearn.preprocessing import StandardScaler  #import the StandardScaler function\n",
        "min_max_scaler = StandardScaler() #define an instance of StandardScaler\n",
        "np_scaled = min_max_scaler.fit_transform(data)  #scale the dataframe\n",
        "data_scaled = pd.DataFrame(np_scaled)  #convert the scaled input to a DataFrame variable"
      ],
      "execution_count": null,
      "outputs": []
    },
    {
      "cell_type": "code",
      "metadata": {
        "colab": {
          "base_uri": "https://localhost:8080/",
          "height": 408
        },
        "id": "LMU-u14zSgLP",
        "outputId": "6ad83cad-c68c-4d1e-dbf7-b70251d89b74"
      },
      "source": [
        "data_scaled"
      ],
      "execution_count": null,
      "outputs": [
        {
          "data": {
            "text/html": [
              "<div>\n",
              "<style scoped>\n",
              "    .dataframe tbody tr th:only-of-type {\n",
              "        vertical-align: middle;\n",
              "    }\n",
              "\n",
              "    .dataframe tbody tr th {\n",
              "        vertical-align: top;\n",
              "    }\n",
              "\n",
              "    .dataframe thead th {\n",
              "        text-align: right;\n",
              "    }\n",
              "</style>\n",
              "<table border=\"1\" class=\"dataframe\">\n",
              "  <thead>\n",
              "    <tr style=\"text-align: right;\">\n",
              "      <th></th>\n",
              "      <th>0</th>\n",
              "      <th>1</th>\n",
              "    </tr>\n",
              "  </thead>\n",
              "  <tbody>\n",
              "    <tr>\n",
              "      <th>0</th>\n",
              "      <td>-0.070085</td>\n",
              "      <td>-0.636275</td>\n",
              "    </tr>\n",
              "    <tr>\n",
              "      <th>1</th>\n",
              "      <td>-0.400337</td>\n",
              "      <td>-0.637583</td>\n",
              "    </tr>\n",
              "    <tr>\n",
              "      <th>2</th>\n",
              "      <td>-0.252060</td>\n",
              "      <td>-0.638891</td>\n",
              "    </tr>\n",
              "    <tr>\n",
              "      <th>3</th>\n",
              "      <td>-0.669929</td>\n",
              "      <td>-0.638891</td>\n",
              "    </tr>\n",
              "    <tr>\n",
              "      <th>4</th>\n",
              "      <td>-0.764287</td>\n",
              "      <td>-0.637583</td>\n",
              "    </tr>\n",
              "    <tr>\n",
              "      <th>...</th>\n",
              "      <td>...</td>\n",
              "      <td>...</td>\n",
              "    </tr>\n",
              "    <tr>\n",
              "      <th>444</th>\n",
              "      <td>0.152329</td>\n",
              "      <td>-0.426194</td>\n",
              "    </tr>\n",
              "    <tr>\n",
              "      <th>445</th>\n",
              "      <td>-0.440775</td>\n",
              "      <td>-0.399607</td>\n",
              "    </tr>\n",
              "    <tr>\n",
              "      <th>446</th>\n",
              "      <td>-0.696889</td>\n",
              "      <td>-0.487213</td>\n",
              "    </tr>\n",
              "    <tr>\n",
              "      <th>447</th>\n",
              "      <td>-0.400337</td>\n",
              "      <td>-0.420528</td>\n",
              "    </tr>\n",
              "    <tr>\n",
              "      <th>448</th>\n",
              "      <td>-0.582312</td>\n",
              "      <td>-0.390018</td>\n",
              "    </tr>\n",
              "  </tbody>\n",
              "</table>\n",
              "<p>449 rows × 2 columns</p>\n",
              "</div>"
            ],
            "text/plain": [
              "            0         1\n",
              "0   -0.070085 -0.636275\n",
              "1   -0.400337 -0.637583\n",
              "2   -0.252060 -0.638891\n",
              "3   -0.669929 -0.638891\n",
              "4   -0.764287 -0.637583\n",
              "..        ...       ...\n",
              "444  0.152329 -0.426194\n",
              "445 -0.440775 -0.399607\n",
              "446 -0.696889 -0.487213\n",
              "447 -0.400337 -0.420528\n",
              "448 -0.582312 -0.390018\n",
              "\n",
              "[449 rows x 2 columns]"
            ]
          },
          "execution_count": 276,
          "metadata": {
            "tags": []
          },
          "output_type": "execute_result"
        }
      ]
    },
    {
      "cell_type": "markdown",
      "metadata": {
        "id": "K8gpYYlzTSrl"
      },
      "source": [
        "Determining the appropriate K value"
      ]
    },
    {
      "cell_type": "code",
      "metadata": {
        "colab": {
          "base_uri": "https://localhost:8080/",
          "height": 296
        },
        "id": "yWYQFHDb5Bcg",
        "outputId": "a2e992fe-7753-4e88-c932-f4edad6983dd"
      },
      "source": [
        "# calculate the within cluster sum of squares for different number of centroids to generate the sum of squares plot.\n",
        "\n",
        "from sklearn.cluster import KMeans  #import KMeans library from sklearn\n",
        "\n",
        "scores=[]   #define an empty list to store the sum of squares for each K value\n",
        "for i in range(1,20): # select K value from 1 to 20\n",
        "  k_means = KMeans(n_clusters=i,max_iter=300)  #define the KMeans instance\n",
        "  '''\n",
        "  n_clusters = number of clusters (K)\n",
        "  max_iter = maximum number of iterations for the KMeans algorithm before stopping\n",
        "  '''\n",
        "\n",
        "  k_means.fit(data_scaled)   # form the clusters\n",
        "  scores.append(k_means.inertia_) #k_means.inertia_ returns the within cluster sum of squares \n",
        "\n",
        "#plot the scores vs K\n",
        "plt.plot(scores)\n",
        "plt.xlim(0, 20)\n",
        "plt.xticks(np.arange(0, 20, 2))\n",
        "plt.xlabel('number of clusters (K)')\n",
        "plt.ylabel('sum of squares')"
      ],
      "execution_count": null,
      "outputs": [
        {
          "data": {
            "text/plain": [
              "Text(0, 0.5, 'sum of squares')"
            ]
          },
          "execution_count": 277,
          "metadata": {
            "tags": []
          },
          "output_type": "execute_result"
        },
        {
          "data": {
            "image/png": "[encoded data removed]",
            "text/plain": [
              "<Figure size 432x288 with 1 Axes>"
            ]
          },
          "metadata": {
            "needs_background": "light",
            "tags": []
          },
          "output_type": "display_data"
        }
      ]
    },
    {
      "cell_type": "markdown",
      "metadata": {
        "id": "dPbfuQEqTZsP"
      },
      "source": [
        "Performing K-Means algorithm on the dataset"
      ]
    },
    {
      "cell_type": "code",
      "metadata": {
        "colab": {
          "base_uri": "https://localhost:8080/",
          "height": 244
        },
        "id": "9z4ttATv7UiO",
        "outputId": "1bd731b1-2408-4dc5-beea-e9b17c4c0277"
      },
      "source": [
        "# choose K=5 (Although the sum of squares is high for K=5, we use this value just for better visibility of clusters)\n",
        "k_means = KMeans(n_clusters=5,max_iter=1000)  #define the KMeans instance\n",
        "k_means.fit(data_scaled)  # form the clusters\n",
        "\n",
        "#create a new column in the dataframe 'data' with elements as the respective clusters\n",
        "data['cluster']=k_means.predict(data_scaled)\n",
        "data['cluster'].value_counts()  #get the number of elements in each cluster"
      ],
      "execution_count": null,
      "outputs": [
        {
          "name": "stderr",
          "output_type": "stream",
          "text": [
            "/usr/local/lib/python3.6/dist-packages/ipykernel_launcher.py:6: SettingWithCopyWarning: \n",
            "A value is trying to be set on a copy of a slice from a DataFrame.\n",
            "Try using .loc[row_indexer,col_indexer] = value instead\n",
            "\n",
            "See the caveats in the documentation: https://pandas.pydata.org/pandas-docs/stable/user_guide/indexing.html#returning-a-view-versus-a-copy\n",
            "  \n"
          ]
        },
        {
          "data": {
            "text/plain": [
              "3    175\n",
              "0    107\n",
              "4    104\n",
              "2     37\n",
              "1     26\n",
              "Name: cluster, dtype: int64"
            ]
          },
          "execution_count": 278,
          "metadata": {
            "tags": []
          },
          "output_type": "execute_result"
        }
      ]
    },
    {
      "cell_type": "code",
      "metadata": {
        "colab": {
          "base_uri": "https://localhost:8080/",
          "height": 198
        },
        "id": "bwmy83cp9LTT",
        "outputId": "052829dd-5f3f-4182-8283-6c407d4a037b"
      },
      "source": [
        "data.head()"
      ],
      "execution_count": null,
      "outputs": [
        {
          "data": {
            "text/html": [
              "<div>\n",
              "<style scoped>\n",
              "    .dataframe tbody tr th:only-of-type {\n",
              "        vertical-align: middle;\n",
              "    }\n",
              "\n",
              "    .dataframe tbody tr th {\n",
              "        vertical-align: top;\n",
              "    }\n",
              "\n",
              "    .dataframe thead th {\n",
              "        text-align: right;\n",
              "    }\n",
              "</style>\n",
              "<table border=\"1\" class=\"dataframe\">\n",
              "  <thead>\n",
              "    <tr style=\"text-align: right;\">\n",
              "      <th></th>\n",
              "      <th>AVG_TEMP</th>\n",
              "      <th>CASES_PER_DAY</th>\n",
              "      <th>cluster</th>\n",
              "    </tr>\n",
              "  </thead>\n",
              "  <tbody>\n",
              "    <tr>\n",
              "      <th>0</th>\n",
              "      <td>67.4</td>\n",
              "      <td>6</td>\n",
              "      <td>4</td>\n",
              "    </tr>\n",
              "    <tr>\n",
              "      <th>1</th>\n",
              "      <td>62.5</td>\n",
              "      <td>3</td>\n",
              "      <td>4</td>\n",
              "    </tr>\n",
              "    <tr>\n",
              "      <th>2</th>\n",
              "      <td>64.7</td>\n",
              "      <td>0</td>\n",
              "      <td>4</td>\n",
              "    </tr>\n",
              "    <tr>\n",
              "      <th>3</th>\n",
              "      <td>58.5</td>\n",
              "      <td>0</td>\n",
              "      <td>4</td>\n",
              "    </tr>\n",
              "    <tr>\n",
              "      <th>4</th>\n",
              "      <td>57.1</td>\n",
              "      <td>3</td>\n",
              "      <td>0</td>\n",
              "    </tr>\n",
              "  </tbody>\n",
              "</table>\n",
              "</div>"
            ],
            "text/plain": [
              "   AVG_TEMP  CASES_PER_DAY  cluster\n",
              "0      67.4              6        4\n",
              "1      62.5              3        4\n",
              "2      64.7              0        4\n",
              "3      58.5              0        4\n",
              "4      57.1              3        0"
            ]
          },
          "execution_count": 279,
          "metadata": {
            "tags": []
          },
          "output_type": "execute_result"
        }
      ]
    },
    {
      "cell_type": "markdown",
      "metadata": {
        "id": "KexqJwRGTe5c"
      },
      "source": [
        "Visualizing K-Means result"
      ]
    },
    {
      "cell_type": "code",
      "metadata": {
        "colab": {
          "base_uri": "https://localhost:8080/",
          "height": 300
        },
        "id": "vf91FRJqApKD",
        "outputId": "233c9094-9e41-47fb-bd77-0ddd6b5fa0be"
      },
      "source": [
        "# create a scatterplot of average temperature vs cases per day \n",
        "# The points are colored according to the clusters assigned.\n",
        "plt.scatter(data['AVG_TEMP'],data['CASES_PER_DAY'],c=data['cluster']) \n",
        "plt.xlabel(\"Temperature\")\n",
        "plt.ylabel(\"Daily cases\")"
      ],
      "execution_count": null,
      "outputs": [
        {
          "data": {
            "text/plain": [
              "Text(0, 0.5, 'Daily cases')"
            ]
          },
          "execution_count": 280,
          "metadata": {
            "tags": []
          },
          "output_type": "execute_result"
        },
        {
          "data": {
            "image/png": "[encoded data removed]",
            "text/plain": [
              "<Figure size 432x288 with 1 Axes>"
            ]
          },
          "metadata": {
            "needs_background": "light",
            "tags": []
          },
          "output_type": "display_data"
        }
      ]
    },
    {
      "cell_type": "markdown",
      "metadata": {
        "id": "vK4DdvwoTkDb"
      },
      "source": [
        "# K-Means using all the features"
      ]
    },
    {
      "cell_type": "code",
      "metadata": {
        "id": "PUxrNrQBCe-8"
      },
      "source": [
        "# create new dataset with all the variables except 'DATE' and 'STATE'\n",
        "data = df[['AVG_TEMP','WDSP','PRCP'\t,'DAILY_AQI',\t'PM','CASES_PER_DAY']]\n",
        "\n",
        "np_scaled = min_max_scaler.fit_transform(data)  #scale the dataframe\n",
        "data_scaled = pd.DataFrame(np_scaled)  #convert the scaled input to a DataFrame variable"
      ],
      "execution_count": null,
      "outputs": []
    },
    {
      "cell_type": "code",
      "metadata": {
        "colab": {
          "base_uri": "https://localhost:8080/",
          "height": 296
        },
        "id": "CzAAElt5C0lD",
        "outputId": "09543d3c-c65e-4023-95f6-a3604fead66b"
      },
      "source": [
        "scores=[]   #define an empty list to store the sum of squares for each K value\n",
        "for i in range(1,20): # select K value from 1 to 20\n",
        "  k_means = KMeans(n_clusters=i,max_iter=300,random_state=48)  #define the KMeans instance\n",
        "  '''\n",
        "  n_clusters = number of clusters (K)\n",
        "  max_iter = maximum number of iterations for the KMeans algorithm before stopping\n",
        "  '''\n",
        "\n",
        "  k_means.fit(data_scaled)   # form the clusters\n",
        "  scores.append(k_means.inertia_) #k_means.inertia_ returns the sum of square of distance of data points from the cluster center\n",
        "\n",
        "#plot the scores vs K\n",
        "plt.plot(scores)\n",
        "plt.xlim(0, 20)\n",
        "plt.xticks(np.arange(0, 20, 2))\n",
        "plt.xlabel('number of clusters (K)')\n",
        "plt.ylabel('sum of squares')"
      ],
      "execution_count": null,
      "outputs": [
        {
          "data": {
            "text/plain": [
              "Text(0, 0.5, 'sum of squares')"
            ]
          },
          "execution_count": 282,
          "metadata": {
            "tags": []
          },
          "output_type": "execute_result"
        },
        {
          "data": {
            "image/png": "[encoded data removed]",
            "text/plain": [
              "<Figure size 432x288 with 1 Axes>"
            ]
          },
          "metadata": {
            "needs_background": "light",
            "tags": []
          },
          "output_type": "display_data"
        }
      ]
    },
    {
      "cell_type": "code",
      "metadata": {
        "colab": {
          "base_uri": "https://localhost:8080/",
          "height": 210
        },
        "id": "qBQ0FIUyC6UI",
        "outputId": "11e9d727-8cbe-4c14-8350-83dd3835128a"
      },
      "source": [
        "# choose K=3 \n",
        "k_means = KMeans(n_clusters=3,max_iter=500,random_state=10)  #define the KMeans instance. Initialize a random state for reproducility\n",
        "k_means.fit(data_scaled)  \n",
        "\n",
        "#create a new column in the dataframe 'data' with elements as the respective clusters\n",
        "data['cluster']=k_means.predict(data_scaled)\n",
        "data['cluster'].value_counts()  #get the number of elements in each cluster"
      ],
      "execution_count": null,
      "outputs": [
        {
          "name": "stderr",
          "output_type": "stream",
          "text": [
            "/usr/local/lib/python3.6/dist-packages/ipykernel_launcher.py:6: SettingWithCopyWarning: \n",
            "A value is trying to be set on a copy of a slice from a DataFrame.\n",
            "Try using .loc[row_indexer,col_indexer] = value instead\n",
            "\n",
            "See the caveats in the documentation: https://pandas.pydata.org/pandas-docs/stable/user_guide/indexing.html#returning-a-view-versus-a-copy\n",
            "  \n"
          ]
        },
        {
          "data": {
            "text/plain": [
              "1    200\n",
              "0    200\n",
              "2     49\n",
              "Name: cluster, dtype: int64"
            ]
          },
          "execution_count": 283,
          "metadata": {
            "tags": []
          },
          "output_type": "execute_result"
        }
      ]
    },
    {
      "cell_type": "code",
      "metadata": {
        "colab": {
          "base_uri": "https://localhost:8080/",
          "height": 408
        },
        "id": "gu-gHfMADEX3",
        "outputId": "ec86517b-90f5-4bf8-9fbe-ceb13fc530cb"
      },
      "source": [
        "cluster1 = data[data['cluster']==0]\n",
        "cluster1\n",
        "# we can see that for moderate temperatures,low wind speed and low AQI, the number of cases is relatively low"
      ],
      "execution_count": null,
      "outputs": [
        {
          "data": {
            "text/html": [
              "<div>\n",
              "<style scoped>\n",
              "    .dataframe tbody tr th:only-of-type {\n",
              "        vertical-align: middle;\n",
              "    }\n",
              "\n",
              "    .dataframe tbody tr th {\n",
              "        vertical-align: top;\n",
              "    }\n",
              "\n",
              "    .dataframe thead th {\n",
              "        text-align: right;\n",
              "    }\n",
              "</style>\n",
              "<table border=\"1\" class=\"dataframe\">\n",
              "  <thead>\n",
              "    <tr style=\"text-align: right;\">\n",
              "      <th></th>\n",
              "      <th>AVG_TEMP</th>\n",
              "      <th>WDSP</th>\n",
              "      <th>PRCP</th>\n",
              "      <th>DAILY_AQI</th>\n",
              "      <th>PM</th>\n",
              "      <th>CASES_PER_DAY</th>\n",
              "      <th>cluster</th>\n",
              "    </tr>\n",
              "  </thead>\n",
              "  <tbody>\n",
              "    <tr>\n",
              "      <th>0</th>\n",
              "      <td>67.4</td>\n",
              "      <td>3.0</td>\n",
              "      <td>0.01</td>\n",
              "      <td>17</td>\n",
              "      <td>4.0</td>\n",
              "      <td>6</td>\n",
              "      <td>0</td>\n",
              "    </tr>\n",
              "    <tr>\n",
              "      <th>1</th>\n",
              "      <td>62.5</td>\n",
              "      <td>1.7</td>\n",
              "      <td>0.21</td>\n",
              "      <td>14</td>\n",
              "      <td>3.4</td>\n",
              "      <td>3</td>\n",
              "      <td>0</td>\n",
              "    </tr>\n",
              "    <tr>\n",
              "      <th>3</th>\n",
              "      <td>58.5</td>\n",
              "      <td>4.1</td>\n",
              "      <td>0.83</td>\n",
              "      <td>12</td>\n",
              "      <td>2.8</td>\n",
              "      <td>0</td>\n",
              "      <td>0</td>\n",
              "    </tr>\n",
              "    <tr>\n",
              "      <th>4</th>\n",
              "      <td>57.1</td>\n",
              "      <td>3.7</td>\n",
              "      <td>0.38</td>\n",
              "      <td>17</td>\n",
              "      <td>4.1</td>\n",
              "      <td>3</td>\n",
              "      <td>0</td>\n",
              "    </tr>\n",
              "    <tr>\n",
              "      <th>7</th>\n",
              "      <td>64.9</td>\n",
              "      <td>2.8</td>\n",
              "      <td>0.00</td>\n",
              "      <td>16</td>\n",
              "      <td>3.9</td>\n",
              "      <td>2</td>\n",
              "      <td>0</td>\n",
              "    </tr>\n",
              "    <tr>\n",
              "      <th>...</th>\n",
              "      <td>...</td>\n",
              "      <td>...</td>\n",
              "      <td>...</td>\n",
              "      <td>...</td>\n",
              "      <td>...</td>\n",
              "      <td>...</td>\n",
              "      <td>...</td>\n",
              "    </tr>\n",
              "    <tr>\n",
              "      <th>447</th>\n",
              "      <td>70.7</td>\n",
              "      <td>3.6</td>\n",
              "      <td>0.00</td>\n",
              "      <td>12</td>\n",
              "      <td>2.8</td>\n",
              "      <td>488</td>\n",
              "      <td>0</td>\n",
              "    </tr>\n",
              "    <tr>\n",
              "      <th>448</th>\n",
              "      <td>61.9</td>\n",
              "      <td>4.1</td>\n",
              "      <td>0.00</td>\n",
              "      <td>6</td>\n",
              "      <td>1.4</td>\n",
              "      <td>549</td>\n",
              "      <td>0</td>\n",
              "    </tr>\n",
              "    <tr>\n",
              "      <th>449</th>\n",
              "      <td>58.1</td>\n",
              "      <td>3.8</td>\n",
              "      <td>0.41</td>\n",
              "      <td>8</td>\n",
              "      <td>1.8</td>\n",
              "      <td>348</td>\n",
              "      <td>0</td>\n",
              "    </tr>\n",
              "    <tr>\n",
              "      <th>450</th>\n",
              "      <td>62.5</td>\n",
              "      <td>5.0</td>\n",
              "      <td>0.09</td>\n",
              "      <td>13</td>\n",
              "      <td>3.0</td>\n",
              "      <td>501</td>\n",
              "      <td>0</td>\n",
              "    </tr>\n",
              "    <tr>\n",
              "      <th>451</th>\n",
              "      <td>59.8</td>\n",
              "      <td>7.4</td>\n",
              "      <td>0.00</td>\n",
              "      <td>5</td>\n",
              "      <td>1.2</td>\n",
              "      <td>571</td>\n",
              "      <td>0</td>\n",
              "    </tr>\n",
              "  </tbody>\n",
              "</table>\n",
              "<p>200 rows × 7 columns</p>\n",
              "</div>"
            ],
            "text/plain": [
              "     AVG_TEMP  WDSP  PRCP  DAILY_AQI   PM  CASES_PER_DAY  cluster\n",
              "0        67.4   3.0  0.01         17  4.0              6        0\n",
              "1        62.5   1.7  0.21         14  3.4              3        0\n",
              "3        58.5   4.1  0.83         12  2.8              0        0\n",
              "4        57.1   3.7  0.38         17  4.1              3        0\n",
              "7        64.9   2.8  0.00         16  3.9              2        0\n",
              "..        ...   ...   ...        ...  ...            ...      ...\n",
              "447      70.7   3.6  0.00         12  2.8            488        0\n",
              "448      61.9   4.1  0.00          6  1.4            549        0\n",
              "449      58.1   3.8  0.41          8  1.8            348        0\n",
              "450      62.5   5.0  0.09         13  3.0            501        0\n",
              "451      59.8   7.4  0.00          5  1.2            571        0\n",
              "\n",
              "[200 rows x 7 columns]"
            ]
          },
          "execution_count": 284,
          "metadata": {
            "tags": []
          },
          "output_type": "execute_result"
        }
      ]
    },
    {
      "cell_type": "code",
      "metadata": {
        "colab": {
          "base_uri": "https://localhost:8080/",
          "height": 52
        },
        "id": "9cqhLBiTUnUf",
        "outputId": "b33e5534-8f5a-4e29-986a-338fa72c4b85"
      },
      "source": [
        "print(\"number of days having daily cases > 300:\")\n",
        "len(cluster1[cluster1['CASES_PER_DAY']>300])"
      ],
      "execution_count": null,
      "outputs": [
        {
          "name": "stdout",
          "output_type": "stream",
          "text": [
            "number of days having daily cases > 300:\n"
          ]
        },
        {
          "data": {
            "text/plain": [
              "102"
            ]
          },
          "execution_count": 285,
          "metadata": {
            "tags": []
          },
          "output_type": "execute_result"
        }
      ]
    },
    {
      "cell_type": "code",
      "metadata": {
        "colab": {
          "base_uri": "https://localhost:8080/",
          "height": 288
        },
        "id": "D3L8qE2BhMbQ",
        "outputId": "17018028-5d1c-46a3-afa6-7785945703cf"
      },
      "source": [
        "cluster1.describe()"
      ],
      "execution_count": null,
      "outputs": [
        {
          "data": {
            "text/html": [
              "<div>\n",
              "<style scoped>\n",
              "    .dataframe tbody tr th:only-of-type {\n",
              "        vertical-align: middle;\n",
              "    }\n",
              "\n",
              "    .dataframe tbody tr th {\n",
              "        vertical-align: top;\n",
              "    }\n",
              "\n",
              "    .dataframe thead th {\n",
              "        text-align: right;\n",
              "    }\n",
              "</style>\n",
              "<table border=\"1\" class=\"dataframe\">\n",
              "  <thead>\n",
              "    <tr style=\"text-align: right;\">\n",
              "      <th></th>\n",
              "      <th>AVG_TEMP</th>\n",
              "      <th>WDSP</th>\n",
              "      <th>PRCP</th>\n",
              "      <th>DAILY_AQI</th>\n",
              "      <th>PM</th>\n",
              "      <th>CASES_PER_DAY</th>\n",
              "      <th>cluster</th>\n",
              "    </tr>\n",
              "  </thead>\n",
              "  <tbody>\n",
              "    <tr>\n",
              "      <th>count</th>\n",
              "      <td>200.000000</td>\n",
              "      <td>200.000000</td>\n",
              "      <td>200.000000</td>\n",
              "      <td>200.000000</td>\n",
              "      <td>200.000000</td>\n",
              "      <td>200.000000</td>\n",
              "      <td>200.0</td>\n",
              "    </tr>\n",
              "    <tr>\n",
              "      <th>mean</th>\n",
              "      <td>62.187000</td>\n",
              "      <td>6.021000</td>\n",
              "      <td>0.078850</td>\n",
              "      <td>11.475000</td>\n",
              "      <td>2.746000</td>\n",
              "      <td>559.750000</td>\n",
              "      <td>0.0</td>\n",
              "    </tr>\n",
              "    <tr>\n",
              "      <th>std</th>\n",
              "      <td>11.572504</td>\n",
              "      <td>2.675077</td>\n",
              "      <td>0.347987</td>\n",
              "      <td>5.431101</td>\n",
              "      <td>1.309948</td>\n",
              "      <td>704.044809</td>\n",
              "      <td>0.0</td>\n",
              "    </tr>\n",
              "    <tr>\n",
              "      <th>min</th>\n",
              "      <td>38.200000</td>\n",
              "      <td>1.400000</td>\n",
              "      <td>0.000000</td>\n",
              "      <td>0.000000</td>\n",
              "      <td>-0.600000</td>\n",
              "      <td>0.000000</td>\n",
              "      <td>0.0</td>\n",
              "    </tr>\n",
              "    <tr>\n",
              "      <th>25%</th>\n",
              "      <td>53.975000</td>\n",
              "      <td>3.800000</td>\n",
              "      <td>0.000000</td>\n",
              "      <td>8.000000</td>\n",
              "      <td>1.800000</td>\n",
              "      <td>163.750000</td>\n",
              "      <td>0.0</td>\n",
              "    </tr>\n",
              "    <tr>\n",
              "      <th>50%</th>\n",
              "      <td>59.300000</td>\n",
              "      <td>5.700000</td>\n",
              "      <td>0.000000</td>\n",
              "      <td>11.000000</td>\n",
              "      <td>2.600000</td>\n",
              "      <td>311.500000</td>\n",
              "      <td>0.0</td>\n",
              "    </tr>\n",
              "    <tr>\n",
              "      <th>75%</th>\n",
              "      <td>71.450000</td>\n",
              "      <td>7.700000</td>\n",
              "      <td>0.022500</td>\n",
              "      <td>16.000000</td>\n",
              "      <td>3.800000</td>\n",
              "      <td>616.500000</td>\n",
              "      <td>0.0</td>\n",
              "    </tr>\n",
              "    <tr>\n",
              "      <th>max</th>\n",
              "      <td>91.100000</td>\n",
              "      <td>13.800000</td>\n",
              "      <td>4.390000</td>\n",
              "      <td>25.000000</td>\n",
              "      <td>5.900000</td>\n",
              "      <td>3822.000000</td>\n",
              "      <td>0.0</td>\n",
              "    </tr>\n",
              "  </tbody>\n",
              "</table>\n",
              "</div>"
            ],
            "text/plain": [
              "         AVG_TEMP        WDSP        PRCP  ...          PM  CASES_PER_DAY  cluster\n",
              "count  200.000000  200.000000  200.000000  ...  200.000000     200.000000    200.0\n",
              "mean    62.187000    6.021000    0.078850  ...    2.746000     559.750000      0.0\n",
              "std     11.572504    2.675077    0.347987  ...    1.309948     704.044809      0.0\n",
              "min     38.200000    1.400000    0.000000  ...   -0.600000       0.000000      0.0\n",
              "25%     53.975000    3.800000    0.000000  ...    1.800000     163.750000      0.0\n",
              "50%     59.300000    5.700000    0.000000  ...    2.600000     311.500000      0.0\n",
              "75%     71.450000    7.700000    0.022500  ...    3.800000     616.500000      0.0\n",
              "max     91.100000   13.800000    4.390000  ...    5.900000    3822.000000      0.0\n",
              "\n",
              "[8 rows x 7 columns]"
            ]
          },
          "execution_count": 286,
          "metadata": {
            "tags": []
          },
          "output_type": "execute_result"
        }
      ]
    },
    {
      "cell_type": "code",
      "metadata": {
        "colab": {
          "base_uri": "https://localhost:8080/",
          "height": 408
        },
        "id": "qdu1FYkUD9-B",
        "outputId": "224e0e14-d40d-49b8-c945-a6ed238d5f29"
      },
      "source": [
        "cluster2 = data[data['cluster']==1]\n",
        "cluster2\n",
        "#we can see that for moderate temperatures,low wind speed and high AQI, the number of cases is higher as\n",
        "#compared to cluster 1. "
      ],
      "execution_count": null,
      "outputs": [
        {
          "data": {
            "text/html": [
              "<div>\n",
              "<style scoped>\n",
              "    .dataframe tbody tr th:only-of-type {\n",
              "        vertical-align: middle;\n",
              "    }\n",
              "\n",
              "    .dataframe tbody tr th {\n",
              "        vertical-align: top;\n",
              "    }\n",
              "\n",
              "    .dataframe thead th {\n",
              "        text-align: right;\n",
              "    }\n",
              "</style>\n",
              "<table border=\"1\" class=\"dataframe\">\n",
              "  <thead>\n",
              "    <tr style=\"text-align: right;\">\n",
              "      <th></th>\n",
              "      <th>AVG_TEMP</th>\n",
              "      <th>WDSP</th>\n",
              "      <th>PRCP</th>\n",
              "      <th>DAILY_AQI</th>\n",
              "      <th>PM</th>\n",
              "      <th>CASES_PER_DAY</th>\n",
              "      <th>cluster</th>\n",
              "    </tr>\n",
              "  </thead>\n",
              "  <tbody>\n",
              "    <tr>\n",
              "      <th>2</th>\n",
              "      <td>64.7</td>\n",
              "      <td>1.4</td>\n",
              "      <td>0.74</td>\n",
              "      <td>21</td>\n",
              "      <td>5.1</td>\n",
              "      <td>0</td>\n",
              "      <td>1</td>\n",
              "    </tr>\n",
              "    <tr>\n",
              "      <th>5</th>\n",
              "      <td>62.0</td>\n",
              "      <td>1.4</td>\n",
              "      <td>0.00</td>\n",
              "      <td>25</td>\n",
              "      <td>5.9</td>\n",
              "      <td>1</td>\n",
              "      <td>1</td>\n",
              "    </tr>\n",
              "    <tr>\n",
              "      <th>6</th>\n",
              "      <td>64.3</td>\n",
              "      <td>2.7</td>\n",
              "      <td>0.00</td>\n",
              "      <td>22</td>\n",
              "      <td>5.2</td>\n",
              "      <td>5</td>\n",
              "      <td>1</td>\n",
              "    </tr>\n",
              "    <tr>\n",
              "      <th>11</th>\n",
              "      <td>61.9</td>\n",
              "      <td>2.9</td>\n",
              "      <td>0.00</td>\n",
              "      <td>28</td>\n",
              "      <td>6.6</td>\n",
              "      <td>40</td>\n",
              "      <td>1</td>\n",
              "    </tr>\n",
              "    <tr>\n",
              "      <th>12</th>\n",
              "      <td>62.0</td>\n",
              "      <td>2.2</td>\n",
              "      <td>0.00</td>\n",
              "      <td>25</td>\n",
              "      <td>6.0</td>\n",
              "      <td>34</td>\n",
              "      <td>1</td>\n",
              "    </tr>\n",
              "    <tr>\n",
              "      <th>...</th>\n",
              "      <td>...</td>\n",
              "      <td>...</td>\n",
              "      <td>...</td>\n",
              "      <td>...</td>\n",
              "      <td>...</td>\n",
              "      <td>...</td>\n",
              "      <td>...</td>\n",
              "    </tr>\n",
              "    <tr>\n",
              "      <th>349</th>\n",
              "      <td>49.5</td>\n",
              "      <td>2.3</td>\n",
              "      <td>0.00</td>\n",
              "      <td>45</td>\n",
              "      <td>10.7</td>\n",
              "      <td>148</td>\n",
              "      <td>1</td>\n",
              "    </tr>\n",
              "    <tr>\n",
              "      <th>350</th>\n",
              "      <td>48.4</td>\n",
              "      <td>3.1</td>\n",
              "      <td>0.00</td>\n",
              "      <td>41</td>\n",
              "      <td>9.9</td>\n",
              "      <td>269</td>\n",
              "      <td>1</td>\n",
              "    </tr>\n",
              "    <tr>\n",
              "      <th>368</th>\n",
              "      <td>50.2</td>\n",
              "      <td>3.6</td>\n",
              "      <td>0.00</td>\n",
              "      <td>28</td>\n",
              "      <td>6.6</td>\n",
              "      <td>584</td>\n",
              "      <td>1</td>\n",
              "    </tr>\n",
              "    <tr>\n",
              "      <th>369</th>\n",
              "      <td>53.5</td>\n",
              "      <td>3.6</td>\n",
              "      <td>0.00</td>\n",
              "      <td>28</td>\n",
              "      <td>6.8</td>\n",
              "      <td>363</td>\n",
              "      <td>1</td>\n",
              "    </tr>\n",
              "    <tr>\n",
              "      <th>419</th>\n",
              "      <td>68.8</td>\n",
              "      <td>3.7</td>\n",
              "      <td>0.00</td>\n",
              "      <td>22</td>\n",
              "      <td>5.2</td>\n",
              "      <td>307</td>\n",
              "      <td>1</td>\n",
              "    </tr>\n",
              "  </tbody>\n",
              "</table>\n",
              "<p>200 rows × 7 columns</p>\n",
              "</div>"
            ],
            "text/plain": [
              "     AVG_TEMP  WDSP  PRCP  DAILY_AQI    PM  CASES_PER_DAY  cluster\n",
              "2        64.7   1.4  0.74         21   5.1              0        1\n",
              "5        62.0   1.4  0.00         25   5.9              1        1\n",
              "6        64.3   2.7  0.00         22   5.2              5        1\n",
              "11       61.9   2.9  0.00         28   6.6             40        1\n",
              "12       62.0   2.2  0.00         25   6.0             34        1\n",
              "..        ...   ...   ...        ...   ...            ...      ...\n",
              "349      49.5   2.3  0.00         45  10.7            148        1\n",
              "350      48.4   3.1  0.00         41   9.9            269        1\n",
              "368      50.2   3.6  0.00         28   6.6            584        1\n",
              "369      53.5   3.6  0.00         28   6.8            363        1\n",
              "419      68.8   3.7  0.00         22   5.2            307        1\n",
              "\n",
              "[200 rows x 7 columns]"
            ]
          },
          "execution_count": 287,
          "metadata": {
            "tags": []
          },
          "output_type": "execute_result"
        }
      ]
    },
    {
      "cell_type": "code",
      "metadata": {
        "colab": {
          "base_uri": "https://localhost:8080/",
          "height": 52
        },
        "id": "Le29bzAxVFkr",
        "outputId": "ed9dfed0-4ab5-4e38-ff22-6c9f9793c70f"
      },
      "source": [
        "print(\"number of days having daily cases > 300:\")\n",
        "len(cluster2[cluster2['CASES_PER_DAY']>300])"
      ],
      "execution_count": null,
      "outputs": [
        {
          "name": "stdout",
          "output_type": "stream",
          "text": [
            "number of days having daily cases > 300:\n"
          ]
        },
        {
          "data": {
            "text/plain": [
              "150"
            ]
          },
          "execution_count": 288,
          "metadata": {
            "tags": []
          },
          "output_type": "execute_result"
        }
      ]
    },
    {
      "cell_type": "code",
      "metadata": {
        "colab": {
          "base_uri": "https://localhost:8080/",
          "height": 288
        },
        "id": "OnAIcRnphSoL",
        "outputId": "6f60a84d-f9b1-46e5-bd40-c06ccb4c7d32"
      },
      "source": [
        "cluster2.describe()"
      ],
      "execution_count": null,
      "outputs": [
        {
          "data": {
            "text/html": [
              "<div>\n",
              "<style scoped>\n",
              "    .dataframe tbody tr th:only-of-type {\n",
              "        vertical-align: middle;\n",
              "    }\n",
              "\n",
              "    .dataframe tbody tr th {\n",
              "        vertical-align: top;\n",
              "    }\n",
              "\n",
              "    .dataframe thead th {\n",
              "        text-align: right;\n",
              "    }\n",
              "</style>\n",
              "<table border=\"1\" class=\"dataframe\">\n",
              "  <thead>\n",
              "    <tr style=\"text-align: right;\">\n",
              "      <th></th>\n",
              "      <th>AVG_TEMP</th>\n",
              "      <th>WDSP</th>\n",
              "      <th>PRCP</th>\n",
              "      <th>DAILY_AQI</th>\n",
              "      <th>PM</th>\n",
              "      <th>CASES_PER_DAY</th>\n",
              "      <th>cluster</th>\n",
              "    </tr>\n",
              "  </thead>\n",
              "  <tbody>\n",
              "    <tr>\n",
              "      <th>count</th>\n",
              "      <td>200.000000</td>\n",
              "      <td>200.000000</td>\n",
              "      <td>200.000000</td>\n",
              "      <td>200.000000</td>\n",
              "      <td>200.000000</td>\n",
              "      <td>200.000000</td>\n",
              "      <td>200.0</td>\n",
              "    </tr>\n",
              "    <tr>\n",
              "      <th>mean</th>\n",
              "      <td>78.920500</td>\n",
              "      <td>5.460000</td>\n",
              "      <td>0.117000</td>\n",
              "      <td>27.720000</td>\n",
              "      <td>6.663000</td>\n",
              "      <td>1062.115000</td>\n",
              "      <td>1.0</td>\n",
              "    </tr>\n",
              "    <tr>\n",
              "      <th>std</th>\n",
              "      <td>10.906944</td>\n",
              "      <td>2.705791</td>\n",
              "      <td>0.591512</td>\n",
              "      <td>8.387691</td>\n",
              "      <td>2.078855</td>\n",
              "      <td>1217.637271</td>\n",
              "      <td>0.0</td>\n",
              "    </tr>\n",
              "    <tr>\n",
              "      <th>min</th>\n",
              "      <td>42.500000</td>\n",
              "      <td>1.400000</td>\n",
              "      <td>0.000000</td>\n",
              "      <td>16.000000</td>\n",
              "      <td>3.900000</td>\n",
              "      <td>0.000000</td>\n",
              "      <td>1.0</td>\n",
              "    </tr>\n",
              "    <tr>\n",
              "      <th>25%</th>\n",
              "      <td>75.675000</td>\n",
              "      <td>3.275000</td>\n",
              "      <td>0.000000</td>\n",
              "      <td>22.000000</td>\n",
              "      <td>5.200000</td>\n",
              "      <td>304.250000</td>\n",
              "      <td>1.0</td>\n",
              "    </tr>\n",
              "    <tr>\n",
              "      <th>50%</th>\n",
              "      <td>81.200000</td>\n",
              "      <td>5.000000</td>\n",
              "      <td>0.000000</td>\n",
              "      <td>25.500000</td>\n",
              "      <td>6.150000</td>\n",
              "      <td>680.500000</td>\n",
              "      <td>1.0</td>\n",
              "    </tr>\n",
              "    <tr>\n",
              "      <th>75%</th>\n",
              "      <td>85.325000</td>\n",
              "      <td>7.125000</td>\n",
              "      <td>0.000000</td>\n",
              "      <td>31.250000</td>\n",
              "      <td>7.525000</td>\n",
              "      <td>1215.250000</td>\n",
              "      <td>1.0</td>\n",
              "    </tr>\n",
              "    <tr>\n",
              "      <th>max</th>\n",
              "      <td>97.400000</td>\n",
              "      <td>14.800000</td>\n",
              "      <td>7.080000</td>\n",
              "      <td>61.000000</td>\n",
              "      <td>16.700000</td>\n",
              "      <td>8530.000000</td>\n",
              "      <td>1.0</td>\n",
              "    </tr>\n",
              "  </tbody>\n",
              "</table>\n",
              "</div>"
            ],
            "text/plain": [
              "         AVG_TEMP        WDSP        PRCP  ...          PM  CASES_PER_DAY  cluster\n",
              "count  200.000000  200.000000  200.000000  ...  200.000000     200.000000    200.0\n",
              "mean    78.920500    5.460000    0.117000  ...    6.663000    1062.115000      1.0\n",
              "std     10.906944    2.705791    0.591512  ...    2.078855    1217.637271      0.0\n",
              "min     42.500000    1.400000    0.000000  ...    3.900000       0.000000      1.0\n",
              "25%     75.675000    3.275000    0.000000  ...    5.200000     304.250000      1.0\n",
              "50%     81.200000    5.000000    0.000000  ...    6.150000     680.500000      1.0\n",
              "75%     85.325000    7.125000    0.000000  ...    7.525000    1215.250000      1.0\n",
              "max     97.400000   14.800000    7.080000  ...   16.700000    8530.000000      1.0\n",
              "\n",
              "[8 rows x 7 columns]"
            ]
          },
          "execution_count": 289,
          "metadata": {
            "tags": []
          },
          "output_type": "execute_result"
        }
      ]
    },
    {
      "cell_type": "code",
      "metadata": {
        "colab": {
          "base_uri": "https://localhost:8080/",
          "height": 1000
        },
        "id": "B-Qcr86FFKUi",
        "outputId": "7370212f-264d-4103-8721-161a21752137"
      },
      "source": [
        "cluster3 = data[data['cluster']==2]\n",
        "cluster3\n",
        "#for low temperatures,high wind speed and high Air Quality Index, the cases are relatively high"
      ],
      "execution_count": null,
      "outputs": [
        {
          "data": {
            "text/html": [
              "<div>\n",
              "<style scoped>\n",
              "    .dataframe tbody tr th:only-of-type {\n",
              "        vertical-align: middle;\n",
              "    }\n",
              "\n",
              "    .dataframe tbody tr th {\n",
              "        vertical-align: top;\n",
              "    }\n",
              "\n",
              "    .dataframe thead th {\n",
              "        text-align: right;\n",
              "    }\n",
              "</style>\n",
              "<table border=\"1\" class=\"dataframe\">\n",
              "  <thead>\n",
              "    <tr style=\"text-align: right;\">\n",
              "      <th></th>\n",
              "      <th>AVG_TEMP</th>\n",
              "      <th>WDSP</th>\n",
              "      <th>PRCP</th>\n",
              "      <th>DAILY_AQI</th>\n",
              "      <th>PM</th>\n",
              "      <th>CASES_PER_DAY</th>\n",
              "      <th>cluster</th>\n",
              "    </tr>\n",
              "  </thead>\n",
              "  <tbody>\n",
              "    <tr>\n",
              "      <th>221</th>\n",
              "      <td>88.2</td>\n",
              "      <td>9.6</td>\n",
              "      <td>0.00</td>\n",
              "      <td>25</td>\n",
              "      <td>6.0</td>\n",
              "      <td>8942</td>\n",
              "      <td>2</td>\n",
              "    </tr>\n",
              "    <tr>\n",
              "      <th>222</th>\n",
              "      <td>87.6</td>\n",
              "      <td>8.3</td>\n",
              "      <td>0.00</td>\n",
              "      <td>33</td>\n",
              "      <td>7.8</td>\n",
              "      <td>9585</td>\n",
              "      <td>2</td>\n",
              "    </tr>\n",
              "    <tr>\n",
              "      <th>235</th>\n",
              "      <td>46.1</td>\n",
              "      <td>9.3</td>\n",
              "      <td>1.00</td>\n",
              "      <td>20</td>\n",
              "      <td>4.9</td>\n",
              "      <td>2870</td>\n",
              "      <td>2</td>\n",
              "    </tr>\n",
              "    <tr>\n",
              "      <th>237</th>\n",
              "      <td>54.2</td>\n",
              "      <td>13.1</td>\n",
              "      <td>0.00</td>\n",
              "      <td>20</td>\n",
              "      <td>4.9</td>\n",
              "      <td>3400</td>\n",
              "      <td>2</td>\n",
              "    </tr>\n",
              "    <tr>\n",
              "      <th>238</th>\n",
              "      <td>39.8</td>\n",
              "      <td>10.9</td>\n",
              "      <td>0.00</td>\n",
              "      <td>21</td>\n",
              "      <td>5.0</td>\n",
              "      <td>4090</td>\n",
              "      <td>2</td>\n",
              "    </tr>\n",
              "    <tr>\n",
              "      <th>239</th>\n",
              "      <td>38.6</td>\n",
              "      <td>12.6</td>\n",
              "      <td>0.00</td>\n",
              "      <td>19</td>\n",
              "      <td>4.5</td>\n",
              "      <td>5084</td>\n",
              "      <td>2</td>\n",
              "    </tr>\n",
              "    <tr>\n",
              "      <th>240</th>\n",
              "      <td>43.2</td>\n",
              "      <td>9.6</td>\n",
              "      <td>1.44</td>\n",
              "      <td>15</td>\n",
              "      <td>3.7</td>\n",
              "      <td>4797</td>\n",
              "      <td>2</td>\n",
              "    </tr>\n",
              "    <tr>\n",
              "      <th>241</th>\n",
              "      <td>43.6</td>\n",
              "      <td>13.3</td>\n",
              "      <td>0.00</td>\n",
              "      <td>16</td>\n",
              "      <td>3.9</td>\n",
              "      <td>5160</td>\n",
              "      <td>2</td>\n",
              "    </tr>\n",
              "    <tr>\n",
              "      <th>242</th>\n",
              "      <td>45.6</td>\n",
              "      <td>7.8</td>\n",
              "      <td>0.01</td>\n",
              "      <td>23</td>\n",
              "      <td>5.4</td>\n",
              "      <td>7036</td>\n",
              "      <td>2</td>\n",
              "    </tr>\n",
              "    <tr>\n",
              "      <th>243</th>\n",
              "      <td>55.9</td>\n",
              "      <td>6.6</td>\n",
              "      <td>0.00</td>\n",
              "      <td>19</td>\n",
              "      <td>4.6</td>\n",
              "      <td>6999</td>\n",
              "      <td>2</td>\n",
              "    </tr>\n",
              "    <tr>\n",
              "      <th>244</th>\n",
              "      <td>49.1</td>\n",
              "      <td>7.0</td>\n",
              "      <td>0.00</td>\n",
              "      <td>19</td>\n",
              "      <td>4.5</td>\n",
              "      <td>7534</td>\n",
              "      <td>2</td>\n",
              "    </tr>\n",
              "    <tr>\n",
              "      <th>245</th>\n",
              "      <td>45.2</td>\n",
              "      <td>16.6</td>\n",
              "      <td>0.42</td>\n",
              "      <td>13</td>\n",
              "      <td>3.1</td>\n",
              "      <td>7238</td>\n",
              "      <td>2</td>\n",
              "    </tr>\n",
              "    <tr>\n",
              "      <th>246</th>\n",
              "      <td>45.7</td>\n",
              "      <td>8.2</td>\n",
              "      <td>0.01</td>\n",
              "      <td>13</td>\n",
              "      <td>3.2</td>\n",
              "      <td>7015</td>\n",
              "      <td>2</td>\n",
              "    </tr>\n",
              "    <tr>\n",
              "      <th>247</th>\n",
              "      <td>44.8</td>\n",
              "      <td>7.4</td>\n",
              "      <td>0.14</td>\n",
              "      <td>15</td>\n",
              "      <td>3.5</td>\n",
              "      <td>9170</td>\n",
              "      <td>2</td>\n",
              "    </tr>\n",
              "    <tr>\n",
              "      <th>248</th>\n",
              "      <td>45.1</td>\n",
              "      <td>9.8</td>\n",
              "      <td>0.07</td>\n",
              "      <td>17</td>\n",
              "      <td>4.1</td>\n",
              "      <td>8115</td>\n",
              "      <td>2</td>\n",
              "    </tr>\n",
              "    <tr>\n",
              "      <th>249</th>\n",
              "      <td>48.7</td>\n",
              "      <td>14.8</td>\n",
              "      <td>0.00</td>\n",
              "      <td>16</td>\n",
              "      <td>3.8</td>\n",
              "      <td>8558</td>\n",
              "      <td>2</td>\n",
              "    </tr>\n",
              "    <tr>\n",
              "      <th>250</th>\n",
              "      <td>49.8</td>\n",
              "      <td>18.0</td>\n",
              "      <td>0.00</td>\n",
              "      <td>6</td>\n",
              "      <td>1.5</td>\n",
              "      <td>10481</td>\n",
              "      <td>2</td>\n",
              "    </tr>\n",
              "    <tr>\n",
              "      <th>251</th>\n",
              "      <td>51.6</td>\n",
              "      <td>9.1</td>\n",
              "      <td>0.08</td>\n",
              "      <td>21</td>\n",
              "      <td>5.1</td>\n",
              "      <td>10846</td>\n",
              "      <td>2</td>\n",
              "    </tr>\n",
              "    <tr>\n",
              "      <th>252</th>\n",
              "      <td>51.9</td>\n",
              "      <td>6.1</td>\n",
              "      <td>0.00</td>\n",
              "      <td>20</td>\n",
              "      <td>4.9</td>\n",
              "      <td>9327</td>\n",
              "      <td>2</td>\n",
              "    </tr>\n",
              "    <tr>\n",
              "      <th>253</th>\n",
              "      <td>54.6</td>\n",
              "      <td>6.8</td>\n",
              "      <td>0.06</td>\n",
              "      <td>17</td>\n",
              "      <td>4.0</td>\n",
              "      <td>8655</td>\n",
              "      <td>2</td>\n",
              "    </tr>\n",
              "    <tr>\n",
              "      <th>254</th>\n",
              "      <td>57.9</td>\n",
              "      <td>8.2</td>\n",
              "      <td>0.00</td>\n",
              "      <td>18</td>\n",
              "      <td>4.3</td>\n",
              "      <td>8060</td>\n",
              "      <td>2</td>\n",
              "    </tr>\n",
              "    <tr>\n",
              "      <th>255</th>\n",
              "      <td>55.2</td>\n",
              "      <td>5.8</td>\n",
              "      <td>0.23</td>\n",
              "      <td>24</td>\n",
              "      <td>5.7</td>\n",
              "      <td>11186</td>\n",
              "      <td>2</td>\n",
              "    </tr>\n",
              "    <tr>\n",
              "      <th>256</th>\n",
              "      <td>52.2</td>\n",
              "      <td>10.9</td>\n",
              "      <td>0.26</td>\n",
              "      <td>16</td>\n",
              "      <td>3.8</td>\n",
              "      <td>10718</td>\n",
              "      <td>2</td>\n",
              "    </tr>\n",
              "    <tr>\n",
              "      <th>257</th>\n",
              "      <td>45.3</td>\n",
              "      <td>19.2</td>\n",
              "      <td>0.01</td>\n",
              "      <td>12</td>\n",
              "      <td>2.9</td>\n",
              "      <td>10569</td>\n",
              "      <td>2</td>\n",
              "    </tr>\n",
              "    <tr>\n",
              "      <th>258</th>\n",
              "      <td>46.4</td>\n",
              "      <td>13.7</td>\n",
              "      <td>0.00</td>\n",
              "      <td>22</td>\n",
              "      <td>5.3</td>\n",
              "      <td>8678</td>\n",
              "      <td>2</td>\n",
              "    </tr>\n",
              "    <tr>\n",
              "      <th>259</th>\n",
              "      <td>52.5</td>\n",
              "      <td>8.4</td>\n",
              "      <td>0.00</td>\n",
              "      <td>24</td>\n",
              "      <td>5.7</td>\n",
              "      <td>8007</td>\n",
              "      <td>2</td>\n",
              "    </tr>\n",
              "    <tr>\n",
              "      <th>260</th>\n",
              "      <td>56.9</td>\n",
              "      <td>15.1</td>\n",
              "      <td>0.61</td>\n",
              "      <td>15</td>\n",
              "      <td>3.7</td>\n",
              "      <td>6716</td>\n",
              "      <td>2</td>\n",
              "    </tr>\n",
              "    <tr>\n",
              "      <th>261</th>\n",
              "      <td>55.6</td>\n",
              "      <td>12.5</td>\n",
              "      <td>1.11</td>\n",
              "      <td>14</td>\n",
              "      <td>3.4</td>\n",
              "      <td>7271</td>\n",
              "      <td>2</td>\n",
              "    </tr>\n",
              "    <tr>\n",
              "      <th>262</th>\n",
              "      <td>48.5</td>\n",
              "      <td>11.1</td>\n",
              "      <td>0.00</td>\n",
              "      <td>21</td>\n",
              "      <td>5.1</td>\n",
              "      <td>11434</td>\n",
              "      <td>2</td>\n",
              "    </tr>\n",
              "    <tr>\n",
              "      <th>263</th>\n",
              "      <td>47.2</td>\n",
              "      <td>14.5</td>\n",
              "      <td>0.00</td>\n",
              "      <td>16</td>\n",
              "      <td>3.9</td>\n",
              "      <td>9237</td>\n",
              "      <td>2</td>\n",
              "    </tr>\n",
              "    <tr>\n",
              "      <th>264</th>\n",
              "      <td>43.5</td>\n",
              "      <td>12.0</td>\n",
              "      <td>0.00</td>\n",
              "      <td>19</td>\n",
              "      <td>4.6</td>\n",
              "      <td>6906</td>\n",
              "      <td>2</td>\n",
              "    </tr>\n",
              "    <tr>\n",
              "      <th>265</th>\n",
              "      <td>44.2</td>\n",
              "      <td>8.2</td>\n",
              "      <td>0.18</td>\n",
              "      <td>24</td>\n",
              "      <td>5.8</td>\n",
              "      <td>11115</td>\n",
              "      <td>2</td>\n",
              "    </tr>\n",
              "    <tr>\n",
              "      <th>266</th>\n",
              "      <td>50.1</td>\n",
              "      <td>10.9</td>\n",
              "      <td>0.08</td>\n",
              "      <td>30</td>\n",
              "      <td>7.1</td>\n",
              "      <td>6103</td>\n",
              "      <td>2</td>\n",
              "    </tr>\n",
              "    <tr>\n",
              "      <th>267</th>\n",
              "      <td>54.0</td>\n",
              "      <td>7.3</td>\n",
              "      <td>0.00</td>\n",
              "      <td>12</td>\n",
              "      <td>2.9</td>\n",
              "      <td>5245</td>\n",
              "      <td>2</td>\n",
              "    </tr>\n",
              "    <tr>\n",
              "      <th>268</th>\n",
              "      <td>51.9</td>\n",
              "      <td>10.6</td>\n",
              "      <td>0.00</td>\n",
              "      <td>10</td>\n",
              "      <td>2.4</td>\n",
              "      <td>5301</td>\n",
              "      <td>2</td>\n",
              "    </tr>\n",
              "    <tr>\n",
              "      <th>269</th>\n",
              "      <td>43.7</td>\n",
              "      <td>17.4</td>\n",
              "      <td>0.33</td>\n",
              "      <td>21</td>\n",
              "      <td>5.1</td>\n",
              "      <td>4931</td>\n",
              "      <td>2</td>\n",
              "    </tr>\n",
              "    <tr>\n",
              "      <th>271</th>\n",
              "      <td>46.7</td>\n",
              "      <td>10.7</td>\n",
              "      <td>0.41</td>\n",
              "      <td>18</td>\n",
              "      <td>4.3</td>\n",
              "      <td>8130</td>\n",
              "      <td>2</td>\n",
              "    </tr>\n",
              "    <tr>\n",
              "      <th>272</th>\n",
              "      <td>52.4</td>\n",
              "      <td>4.0</td>\n",
              "      <td>0.20</td>\n",
              "      <td>18</td>\n",
              "      <td>4.3</td>\n",
              "      <td>10553</td>\n",
              "      <td>2</td>\n",
              "    </tr>\n",
              "    <tr>\n",
              "      <th>273</th>\n",
              "      <td>49.1</td>\n",
              "      <td>12.7</td>\n",
              "      <td>0.00</td>\n",
              "      <td>22</td>\n",
              "      <td>5.3</td>\n",
              "      <td>5902</td>\n",
              "      <td>2</td>\n",
              "    </tr>\n",
              "    <tr>\n",
              "      <th>274</th>\n",
              "      <td>44.9</td>\n",
              "      <td>12.5</td>\n",
              "      <td>0.07</td>\n",
              "      <td>15</td>\n",
              "      <td>3.7</td>\n",
              "      <td>3951</td>\n",
              "      <td>2</td>\n",
              "    </tr>\n",
              "    <tr>\n",
              "      <th>275</th>\n",
              "      <td>50.7</td>\n",
              "      <td>9.4</td>\n",
              "      <td>0.00</td>\n",
              "      <td>22</td>\n",
              "      <td>5.2</td>\n",
              "      <td>3110</td>\n",
              "      <td>2</td>\n",
              "    </tr>\n",
              "    <tr>\n",
              "      <th>276</th>\n",
              "      <td>51.1</td>\n",
              "      <td>9.0</td>\n",
              "      <td>0.00</td>\n",
              "      <td>25</td>\n",
              "      <td>6.1</td>\n",
              "      <td>4585</td>\n",
              "      <td>2</td>\n",
              "    </tr>\n",
              "    <tr>\n",
              "      <th>277</th>\n",
              "      <td>54.7</td>\n",
              "      <td>15.1</td>\n",
              "      <td>0.23</td>\n",
              "      <td>15</td>\n",
              "      <td>3.5</td>\n",
              "      <td>4681</td>\n",
              "      <td>2</td>\n",
              "    </tr>\n",
              "    <tr>\n",
              "      <th>278</th>\n",
              "      <td>58.3</td>\n",
              "      <td>9.7</td>\n",
              "      <td>0.73</td>\n",
              "      <td>16</td>\n",
              "      <td>3.8</td>\n",
              "      <td>3942</td>\n",
              "      <td>2</td>\n",
              "    </tr>\n",
              "    <tr>\n",
              "      <th>279</th>\n",
              "      <td>61.8</td>\n",
              "      <td>10.6</td>\n",
              "      <td>0.14</td>\n",
              "      <td>20</td>\n",
              "      <td>4.9</td>\n",
              "      <td>4663</td>\n",
              "      <td>2</td>\n",
              "    </tr>\n",
              "    <tr>\n",
              "      <th>286</th>\n",
              "      <td>42.2</td>\n",
              "      <td>18.1</td>\n",
              "      <td>0.41</td>\n",
              "      <td>6</td>\n",
              "      <td>1.5</td>\n",
              "      <td>2715</td>\n",
              "      <td>2</td>\n",
              "    </tr>\n",
              "    <tr>\n",
              "      <th>287</th>\n",
              "      <td>50.3</td>\n",
              "      <td>14.1</td>\n",
              "      <td>0.03</td>\n",
              "      <td>11</td>\n",
              "      <td>2.6</td>\n",
              "      <td>2273</td>\n",
              "      <td>2</td>\n",
              "    </tr>\n",
              "    <tr>\n",
              "      <th>289</th>\n",
              "      <td>51.0</td>\n",
              "      <td>16.1</td>\n",
              "      <td>0.10</td>\n",
              "      <td>15</td>\n",
              "      <td>3.5</td>\n",
              "      <td>1430</td>\n",
              "      <td>2</td>\n",
              "    </tr>\n",
              "    <tr>\n",
              "      <th>296</th>\n",
              "      <td>60.4</td>\n",
              "      <td>14.8</td>\n",
              "      <td>0.00</td>\n",
              "      <td>19</td>\n",
              "      <td>4.5</td>\n",
              "      <td>1474</td>\n",
              "      <td>2</td>\n",
              "    </tr>\n",
              "  </tbody>\n",
              "</table>\n",
              "</div>"
            ],
            "text/plain": [
              "     AVG_TEMP  WDSP  PRCP  DAILY_AQI   PM  CASES_PER_DAY  cluster\n",
              "221      88.2   9.6  0.00         25  6.0           8942        2\n",
              "222      87.6   8.3  0.00         33  7.8           9585        2\n",
              "235      46.1   9.3  1.00         20  4.9           2870        2\n",
              "237      54.2  13.1  0.00         20  4.9           3400        2\n",
              "238      39.8  10.9  0.00         21  5.0           4090        2\n",
              "239      38.6  12.6  0.00         19  4.5           5084        2\n",
              "240      43.2   9.6  1.44         15  3.7           4797        2\n",
              "241      43.6  13.3  0.00         16  3.9           5160        2\n",
              "242      45.6   7.8  0.01         23  5.4           7036        2\n",
              "243      55.9   6.6  0.00         19  4.6           6999        2\n",
              "244      49.1   7.0  0.00         19  4.5           7534        2\n",
              "245      45.2  16.6  0.42         13  3.1           7238        2\n",
              "246      45.7   8.2  0.01         13  3.2           7015        2\n",
              "247      44.8   7.4  0.14         15  3.5           9170        2\n",
              "248      45.1   9.8  0.07         17  4.1           8115        2\n",
              "249      48.7  14.8  0.00         16  3.8           8558        2\n",
              "250      49.8  18.0  0.00          6  1.5          10481        2\n",
              "251      51.6   9.1  0.08         21  5.1          10846        2\n",
              "252      51.9   6.1  0.00         20  4.9           9327        2\n",
              "253      54.6   6.8  0.06         17  4.0           8655        2\n",
              "254      57.9   8.2  0.00         18  4.3           8060        2\n",
              "255      55.2   5.8  0.23         24  5.7          11186        2\n",
              "256      52.2  10.9  0.26         16  3.8          10718        2\n",
              "257      45.3  19.2  0.01         12  2.9          10569        2\n",
              "258      46.4  13.7  0.00         22  5.3           8678        2\n",
              "259      52.5   8.4  0.00         24  5.7           8007        2\n",
              "260      56.9  15.1  0.61         15  3.7           6716        2\n",
              "261      55.6  12.5  1.11         14  3.4           7271        2\n",
              "262      48.5  11.1  0.00         21  5.1          11434        2\n",
              "263      47.2  14.5  0.00         16  3.9           9237        2\n",
              "264      43.5  12.0  0.00         19  4.6           6906        2\n",
              "265      44.2   8.2  0.18         24  5.8          11115        2\n",
              "266      50.1  10.9  0.08         30  7.1           6103        2\n",
              "267      54.0   7.3  0.00         12  2.9           5245        2\n",
              "268      51.9  10.6  0.00         10  2.4           5301        2\n",
              "269      43.7  17.4  0.33         21  5.1           4931        2\n",
              "271      46.7  10.7  0.41         18  4.3           8130        2\n",
              "272      52.4   4.0  0.20         18  4.3          10553        2\n",
              "273      49.1  12.7  0.00         22  5.3           5902        2\n",
              "274      44.9  12.5  0.07         15  3.7           3951        2\n",
              "275      50.7   9.4  0.00         22  5.2           3110        2\n",
              "276      51.1   9.0  0.00         25  6.1           4585        2\n",
              "277      54.7  15.1  0.23         15  3.5           4681        2\n",
              "278      58.3   9.7  0.73         16  3.8           3942        2\n",
              "279      61.8  10.6  0.14         20  4.9           4663        2\n",
              "286      42.2  18.1  0.41          6  1.5           2715        2\n",
              "287      50.3  14.1  0.03         11  2.6           2273        2\n",
              "289      51.0  16.1  0.10         15  3.5           1430        2\n",
              "296      60.4  14.8  0.00         19  4.5           1474        2"
            ]
          },
          "execution_count": 290,
          "metadata": {
            "tags": []
          },
          "output_type": "execute_result"
        }
      ]
    }
  ]
}
