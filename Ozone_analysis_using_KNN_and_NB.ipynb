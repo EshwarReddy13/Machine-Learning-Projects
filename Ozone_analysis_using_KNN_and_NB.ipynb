{
  "nbformat": 4,
  "nbformat_minor": 0,
  "metadata": {
    "colab": {
      "name": "Ozone analysis using KNN and NB.ipynb",
      "provenance": [],
      "collapsed_sections": []
    },
    "kernelspec": {
      "display_name": "Python 3",
      "language": "python",
      "name": "python3"
    },
    "language_info": {
      "codemirror_mode": {
        "name": "ipython",
        "version": 3
      },
      "file_extension": ".py",
      "mimetype": "text/x-python",
      "name": "python",
      "nbconvert_exporter": "python",
      "pygments_lexer": "ipython3",
      "version": "3.8.5"
    }
  },
  "cells": [
    {
      "cell_type": "markdown",
      "metadata": {
        "id": "jUZZtIOTxgHe"
      },
      "source": [
        "We are using the ozone level detection dataset by Kun Zhang,Wei Fan and XiaoJing Yuan.\n",
        "https://archive.ics.uci.edu/ml/datasets/Ozone+Level+Detection\n",
        "\n",
        "The task is to find level of ozone in the atmosphere on a given day and time based on sensor data like temperature, humidity, wind speed, precipitation and sea level pressure. \n",
        "The output is a binary variable with 0 standing for low ozone level and 1 standing for high ozone level. "
      ]
    },
    {
      "cell_type": "code",
      "metadata": {
        "id": "6t0Zm9u9yEKg"
      },
      "source": [
        "import numpy as np\n",
        "import pandas as pd\n",
        "import matplotlib.pyplot as plt\n",
        "import sklearn\n",
        "import seaborn as sns"
      ],
      "execution_count": null,
      "outputs": []
    },
    {
      "cell_type": "markdown",
      "metadata": {
        "id": "8Zd2R8Onhi_M"
      },
      "source": [
        "# **Understanding the Data and Data Cleaning**"
      ]
    },
    {
      "cell_type": "markdown",
      "metadata": {
        "id": "hq-KTHy1Q04L"
      },
      "source": [
        "Dataset Information: \\\\\n",
        "Tx: All features starting with T represent the temperature (Fahrenheit) measured at different times of the day. \\\\\n",
        "WSRx: All features starting with WS represent wind speeds(m/s) at various times. \\\\\n",
        "WSR_PK: peak wind speed\n",
        "\n",
        "WSR_AV: average wind speed\n",
        "\n",
        "T_PK: Peak T \\\\\n",
        "T_AV: Average T \\\\\n",
        "T85:  T at 850 hpa level (or about 1500 m height) \\\\\n",
        "RH85: Relative Humidity at 850 hpa (in percentage) \\\\\n",
        "U85:  (U wind - east-west direction wind at 850 hpa) \\\\\n",
        "V85:  V wind - N-S direction wind at 850 \\\\\n",
        "HT85: Geopotential height at 850 hpa, it is about the same as height at low altitude \\\\\n",
        "T70:  T at 700 hpa level (roughly 3100 m height) \\\\\n",
        "KI:  K-Index. A measure of the thunderstorm potential based on vertical temperature lapse rate, moisture content of the lower atmosphere, and the vertical extent of the moist layer. https://w1.weather.gov/glossary/index.php?letter=k  \\\\\n",
        "TT:  T-Totals. an index used to assess storm strength. http://www.theweatherprediction.com/habyhints/302/   \\\\\n",
        "\n",
        "SLP: Sea level pressure (psi) \\\\\n",
        "SLP_: SLP change from previous day \\\\\n",
        "\n",
        "Precp: precipitation \\\\\n",
        "\n",
        "\n",
        "\n",
        "Output:\n",
        "Result: High Ozone level(1) or Low Ozone level(0)"
      ]
    },
    {
      "cell_type": "code",
      "metadata": {
        "id": "Hf2Wbp4ryoj1"
      },
      "source": [
        "data = pd.read_csv('eighthr.csv',header=0) # Specify the correct file path"
      ],
      "execution_count": null,
      "outputs": []
    },
    {
      "cell_type": "code",
      "metadata": {
        "colab": {
          "base_uri": "https://localhost:8080/",
          "height": 218
        },
        "id": "d9VmDd5ByzMZ",
        "outputId": "9600f708-56f4-4487-a1a2-88cd2e38ad6e"
      },
      "source": [
        "#display the first 5 rows of the data\n",
        "data.head()"
      ],
      "execution_count": null,
      "outputs": [
        {
          "data": {
            "text/html": [
              "<div>\n",
              "<style scoped>\n",
              "    .dataframe tbody tr th:only-of-type {\n",
              "        vertical-align: middle;\n",
              "    }\n",
              "\n",
              "    .dataframe tbody tr th {\n",
              "        vertical-align: top;\n",
              "    }\n",
              "\n",
              "    .dataframe thead th {\n",
              "        text-align: right;\n",
              "    }\n",
              "</style>\n",
              "<table border=\"1\" class=\"dataframe\">\n",
              "  <thead>\n",
              "    <tr style=\"text-align: right;\">\n",
              "      <th></th>\n",
              "      <th>Date</th>\n",
              "      <th>WSR0</th>\n",
              "      <th>WSR1</th>\n",
              "      <th>WSR2</th>\n",
              "      <th>WSR3</th>\n",
              "      <th>WSR4</th>\n",
              "      <th>WSR5</th>\n",
              "      <th>WSR6</th>\n",
              "      <th>WSR7</th>\n",
              "      <th>WSR8</th>\n",
              "      <th>...</th>\n",
              "      <th>RH50</th>\n",
              "      <th>U50</th>\n",
              "      <th>V50</th>\n",
              "      <th>HT50</th>\n",
              "      <th>KI</th>\n",
              "      <th>TT</th>\n",
              "      <th>SLP</th>\n",
              "      <th>SLP_</th>\n",
              "      <th>Precp</th>\n",
              "      <th>Result</th>\n",
              "    </tr>\n",
              "  </thead>\n",
              "  <tbody>\n",
              "    <tr>\n",
              "      <th>0</th>\n",
              "      <td>1/1/1998</td>\n",
              "      <td>0.8</td>\n",
              "      <td>1.8</td>\n",
              "      <td>2.4</td>\n",
              "      <td>2.1</td>\n",
              "      <td>2</td>\n",
              "      <td>2.1</td>\n",
              "      <td>1.5</td>\n",
              "      <td>1.7</td>\n",
              "      <td>1.9</td>\n",
              "      <td>...</td>\n",
              "      <td>0.15</td>\n",
              "      <td>10.67</td>\n",
              "      <td>-1.56</td>\n",
              "      <td>5795</td>\n",
              "      <td>-12.1</td>\n",
              "      <td>17.9</td>\n",
              "      <td>10330</td>\n",
              "      <td>-55</td>\n",
              "      <td>0</td>\n",
              "      <td>0</td>\n",
              "    </tr>\n",
              "    <tr>\n",
              "      <th>1</th>\n",
              "      <td>1/2/1998</td>\n",
              "      <td>2.8</td>\n",
              "      <td>3.2</td>\n",
              "      <td>3.3</td>\n",
              "      <td>2.7</td>\n",
              "      <td>3.3</td>\n",
              "      <td>3.2</td>\n",
              "      <td>2.9</td>\n",
              "      <td>2.8</td>\n",
              "      <td>3.1</td>\n",
              "      <td>...</td>\n",
              "      <td>0.48</td>\n",
              "      <td>8.39</td>\n",
              "      <td>3.84</td>\n",
              "      <td>5805</td>\n",
              "      <td>14.05</td>\n",
              "      <td>29</td>\n",
              "      <td>10275</td>\n",
              "      <td>-55</td>\n",
              "      <td>0</td>\n",
              "      <td>0</td>\n",
              "    </tr>\n",
              "    <tr>\n",
              "      <th>2</th>\n",
              "      <td>1/3/1998</td>\n",
              "      <td>2.9</td>\n",
              "      <td>2.8</td>\n",
              "      <td>2.6</td>\n",
              "      <td>2.1</td>\n",
              "      <td>2.2</td>\n",
              "      <td>2.5</td>\n",
              "      <td>2.5</td>\n",
              "      <td>2.7</td>\n",
              "      <td>2.2</td>\n",
              "      <td>...</td>\n",
              "      <td>0.6</td>\n",
              "      <td>6.94</td>\n",
              "      <td>9.8</td>\n",
              "      <td>5790</td>\n",
              "      <td>17.9</td>\n",
              "      <td>41.3</td>\n",
              "      <td>10235</td>\n",
              "      <td>-40</td>\n",
              "      <td>0</td>\n",
              "      <td>0</td>\n",
              "    </tr>\n",
              "    <tr>\n",
              "      <th>3</th>\n",
              "      <td>1/4/1998</td>\n",
              "      <td>4.7</td>\n",
              "      <td>3.8</td>\n",
              "      <td>3.7</td>\n",
              "      <td>3.8</td>\n",
              "      <td>2.9</td>\n",
              "      <td>3.1</td>\n",
              "      <td>2.8</td>\n",
              "      <td>2.5</td>\n",
              "      <td>2.4</td>\n",
              "      <td>...</td>\n",
              "      <td>0.49</td>\n",
              "      <td>8.73</td>\n",
              "      <td>10.54</td>\n",
              "      <td>5775</td>\n",
              "      <td>31.15</td>\n",
              "      <td>51.7</td>\n",
              "      <td>10195</td>\n",
              "      <td>-40</td>\n",
              "      <td>2.08</td>\n",
              "      <td>0</td>\n",
              "    </tr>\n",
              "    <tr>\n",
              "      <th>4</th>\n",
              "      <td>1/5/1998</td>\n",
              "      <td>2.6</td>\n",
              "      <td>2.1</td>\n",
              "      <td>1.6</td>\n",
              "      <td>1.4</td>\n",
              "      <td>0.9</td>\n",
              "      <td>1.5</td>\n",
              "      <td>1.2</td>\n",
              "      <td>1.4</td>\n",
              "      <td>1.3</td>\n",
              "      <td>...</td>\n",
              "      <td>?</td>\n",
              "      <td>?</td>\n",
              "      <td>?</td>\n",
              "      <td>?</td>\n",
              "      <td>?</td>\n",
              "      <td>?</td>\n",
              "      <td>?</td>\n",
              "      <td>?</td>\n",
              "      <td>0.58</td>\n",
              "      <td>0</td>\n",
              "    </tr>\n",
              "  </tbody>\n",
              "</table>\n",
              "<p>5 rows × 74 columns</p>\n",
              "</div>"
            ],
            "text/plain": [
              "       Date WSR0 WSR1 WSR2 WSR3 WSR4 WSR5 WSR6 WSR7 WSR8  ...  RH50    U50  \\\n",
              "0  1/1/1998  0.8  1.8  2.4  2.1    2  2.1  1.5  1.7  1.9  ...  0.15  10.67   \n",
              "1  1/2/1998  2.8  3.2  3.3  2.7  3.3  3.2  2.9  2.8  3.1  ...  0.48   8.39   \n",
              "2  1/3/1998  2.9  2.8  2.6  2.1  2.2  2.5  2.5  2.7  2.2  ...   0.6   6.94   \n",
              "3  1/4/1998  4.7  3.8  3.7  3.8  2.9  3.1  2.8  2.5  2.4  ...  0.49   8.73   \n",
              "4  1/5/1998  2.6  2.1  1.6  1.4  0.9  1.5  1.2  1.4  1.3  ...     ?      ?   \n",
              "\n",
              "     V50  HT50     KI    TT    SLP SLP_ Precp Result  \n",
              "0  -1.56  5795  -12.1  17.9  10330  -55     0      0  \n",
              "1   3.84  5805  14.05    29  10275  -55     0      0  \n",
              "2    9.8  5790   17.9  41.3  10235  -40     0      0  \n",
              "3  10.54  5775  31.15  51.7  10195  -40  2.08      0  \n",
              "4      ?     ?      ?     ?      ?    ?  0.58      0  \n",
              "\n",
              "[5 rows x 74 columns]"
            ]
          },
          "execution_count": 3,
          "metadata": {},
          "output_type": "execute_result"
        }
      ]
    },
    {
      "cell_type": "code",
      "metadata": {
        "colab": {
          "base_uri": "https://localhost:8080/",
          "height": 1000
        },
        "id": "N9Dweu1u6WOo",
        "scrolled": true,
        "outputId": "b32cdfc6-77e3-484a-b941-6e97773dea7a"
      },
      "source": [
        "#get information about the data\n",
        "data.info()"
      ],
      "execution_count": null,
      "outputs": [
        {
          "name": "stdout",
          "output_type": "stream",
          "text": [
            "<class 'pandas.core.frame.DataFrame'>\n",
            "RangeIndex: 2534 entries, 0 to 2533\n",
            "Data columns (total 74 columns):\n",
            " #   Column  Non-Null Count  Dtype \n",
            "---  ------  --------------  ----- \n",
            " 0   Date    2534 non-null   object\n",
            " 1   WSR0    2534 non-null   object\n",
            " 2   WSR1    2534 non-null   object\n",
            " 3   WSR2    2534 non-null   object\n",
            " 4   WSR3    2534 non-null   object\n",
            " 5   WSR4    2534 non-null   object\n",
            " 6   WSR5    2534 non-null   object\n",
            " 7   WSR6    2534 non-null   object\n",
            " 8   WSR7    2534 non-null   object\n",
            " 9   WSR8    2534 non-null   object\n",
            " 10  WSR9    2534 non-null   object\n",
            " 11  WSR10   2534 non-null   object\n",
            " 12  WSR11   2534 non-null   object\n",
            " 13  WSR12   2534 non-null   object\n",
            " 14  WSR13   2534 non-null   object\n",
            " 15  WSR14   2534 non-null   object\n",
            " 16  WSR15   2534 non-null   object\n",
            " 17  WSR16   2534 non-null   object\n",
            " 18  WSR17   2534 non-null   object\n",
            " 19  WSR18   2534 non-null   object\n",
            " 20  WSR19   2534 non-null   object\n",
            " 21  WSR20   2534 non-null   object\n",
            " 22  WSR21   2534 non-null   object\n",
            " 23  WSR22   2534 non-null   object\n",
            " 24  WSR23   2534 non-null   object\n",
            " 25  WSR_PK  2534 non-null   object\n",
            " 26  WSR_AV  2534 non-null   object\n",
            " 27  T0      2534 non-null   object\n",
            " 28  T1      2534 non-null   object\n",
            " 29  T2      2534 non-null   object\n",
            " 30  T3      2534 non-null   object\n",
            " 31  T4      2534 non-null   object\n",
            " 32  T5      2534 non-null   object\n",
            " 33  T6      2534 non-null   object\n",
            " 34  T7      2534 non-null   object\n",
            " 35  T8      2534 non-null   object\n",
            " 36  T9      2534 non-null   object\n",
            " 37  T10     2534 non-null   object\n",
            " 38  T11     2534 non-null   object\n",
            " 39  T12     2534 non-null   object\n",
            " 40  T13     2534 non-null   object\n",
            " 41  T14     2534 non-null   object\n",
            " 42  T15     2534 non-null   object\n",
            " 43  T16     2534 non-null   object\n",
            " 44  T17     2534 non-null   object\n",
            " 45  T18     2534 non-null   object\n",
            " 46  T19     2534 non-null   object\n",
            " 47  T20     2534 non-null   object\n",
            " 48  T21     2534 non-null   object\n",
            " 49  T22     2534 non-null   object\n",
            " 50  T23     2534 non-null   object\n",
            " 51  T_PK    2534 non-null   object\n",
            " 52  T_AV    2534 non-null   object\n",
            " 53  T85     2534 non-null   object\n",
            " 54  RH85    2534 non-null   object\n",
            " 55  U85     2534 non-null   object\n",
            " 56  V85     2534 non-null   object\n",
            " 57  HT85    2534 non-null   object\n",
            " 58  T70     2534 non-null   object\n",
            " 59  RH70    2534 non-null   object\n",
            " 60  U70     2534 non-null   object\n",
            " 61  V70     2534 non-null   object\n",
            " 62  HT70    2534 non-null   object\n",
            " 63  T50     2534 non-null   object\n",
            " 64  RH50    2534 non-null   object\n",
            " 65  U50     2534 non-null   object\n",
            " 66  V50     2534 non-null   object\n",
            " 67  HT50    2534 non-null   object\n",
            " 68  KI      2534 non-null   object\n",
            " 69  TT      2534 non-null   object\n",
            " 70  SLP     2534 non-null   object\n",
            " 71  SLP_    2534 non-null   object\n",
            " 72  Precp   2534 non-null   object\n",
            " 73  Result  2534 non-null   int64 \n",
            "dtypes: int64(1), object(73)\n",
            "memory usage: 1.4+ MB\n"
          ]
        }
      ]
    },
    {
      "cell_type": "code",
      "metadata": {
        "id": "ENvEnQ3l7bf6"
      },
      "source": [
        "#the date column serves no purpose for the analysis. Hence we drop it from the data, inplace=True shifts all the other columns to the left\n",
        "data.drop(columns='Date', inplace=True)"
      ],
      "execution_count": null,
      "outputs": []
    },
    {
      "cell_type": "code",
      "metadata": {
        "id": "SZ2qozzRT6vW"
      },
      "source": [
        "#use the .replace() to replace all instances of '?' with NaN\n",
        "data.replace(to_replace='?', value=np.nan, inplace=True)"
      ],
      "execution_count": null,
      "outputs": []
    },
    {
      "cell_type": "code",
      "metadata": {
        "colab": {
          "base_uri": "https://localhost:8080/",
          "height": 69
        },
        "id": "2yrWz4W6VxqI",
        "outputId": "c87a6984-c682-4b7d-ac5e-cd829543651f"
      },
      "source": [
        "#You can check if there are any NaN values in the features using .isna() function\n",
        "print(data[\"T_PK\"].isna().value_counts())"
      ],
      "execution_count": null,
      "outputs": [
        {
          "name": "stdout",
          "output_type": "stream",
          "text": [
            "False    2359\n",
            "True      175\n",
            "Name: T_PK, dtype: int64\n"
          ]
        }
      ]
    },
    {
      "cell_type": "code",
      "metadata": {
        "id": "X60ReFluHXPv"
      },
      "source": [
        "# We will only be using a few features for the analysis. Here we split the data into input features and output response. \n",
        "#If the columns are labelled, the you can select them by just specifying their names. This is particularly useful when you have to pick only a certain features out of 100s of given features.\n",
        "#instead of specifying indices\n",
        "X = data[['WSR_AV','T_AV','T85','RH85','SLP','Precp']] \n",
        "Y = data.iloc[:,-1].values  #select the last column as the output variable"
      ],
      "execution_count": null,
      "outputs": []
    },
    {
      "cell_type": "markdown",
      "metadata": {
        "id": "0hPIUWC3YEOj"
      },
      "source": [
        "Now that we have our Input and Output Variables set, the next task is to deal with the NaN values in the input. Previously we dealt with NaN by dropping out the rows that contained NaN. This is a very simple approach and works fine for most data. \n",
        "\n",
        "But in a situation where the amount of data is already scarce, it would be infeasible to drop additional rows from it. Hence we need another strategy to deal with such a situation. \n",
        "\n",
        "Here we use a simple but highly efficient method of replacing all the NaN values in a column by the mean value of the column. Though not an acccurate representation of the values, this method still gives very good results."
      ]
    },
    {
      "cell_type": "code",
      "metadata": {
        "id": "mSRR1UBTSAuR"
      },
      "source": [
        "#we will make use of sklearn's SimpleImputer function to replace the NaN with the mean values\n",
        "from sklearn.impute import SimpleImputer\n",
        "imputer = SimpleImputer(missing_values=np.nan, strategy='mean')"
      ],
      "execution_count": null,
      "outputs": []
    },
    {
      "cell_type": "code",
      "metadata": {
        "colab": {
          "base_uri": "https://localhost:8080/",
          "height": 218
        },
        "id": "a-2HIIC9JHPI",
        "outputId": "7137422c-a607-442e-88a2-b7f33b4023eb"
      },
      "source": [
        "#use the imputer instance to transform the data\n",
        "data = pd.DataFrame(imputer.fit_transform(data), dtype='float64')\n",
        "data.head()"
      ],
      "execution_count": null,
      "outputs": [
        {
          "data": {
            "text/html": [
              "<div>\n",
              "<style scoped>\n",
              "    .dataframe tbody tr th:only-of-type {\n",
              "        vertical-align: middle;\n",
              "    }\n",
              "\n",
              "    .dataframe tbody tr th {\n",
              "        vertical-align: top;\n",
              "    }\n",
              "\n",
              "    .dataframe thead th {\n",
              "        text-align: right;\n",
              "    }\n",
              "</style>\n",
              "<table border=\"1\" class=\"dataframe\">\n",
              "  <thead>\n",
              "    <tr style=\"text-align: right;\">\n",
              "      <th></th>\n",
              "      <th>0</th>\n",
              "      <th>1</th>\n",
              "      <th>2</th>\n",
              "      <th>3</th>\n",
              "      <th>4</th>\n",
              "      <th>5</th>\n",
              "      <th>6</th>\n",
              "      <th>7</th>\n",
              "      <th>8</th>\n",
              "      <th>9</th>\n",
              "      <th>...</th>\n",
              "      <th>63</th>\n",
              "      <th>64</th>\n",
              "      <th>65</th>\n",
              "      <th>66</th>\n",
              "      <th>67</th>\n",
              "      <th>68</th>\n",
              "      <th>69</th>\n",
              "      <th>70</th>\n",
              "      <th>71</th>\n",
              "      <th>72</th>\n",
              "    </tr>\n",
              "  </thead>\n",
              "  <tbody>\n",
              "    <tr>\n",
              "      <th>0</th>\n",
              "      <td>0.8</td>\n",
              "      <td>1.8</td>\n",
              "      <td>2.4</td>\n",
              "      <td>2.1</td>\n",
              "      <td>2.0</td>\n",
              "      <td>2.1</td>\n",
              "      <td>1.5</td>\n",
              "      <td>1.7</td>\n",
              "      <td>1.9</td>\n",
              "      <td>2.3</td>\n",
              "      <td>...</td>\n",
              "      <td>0.150000</td>\n",
              "      <td>10.670000</td>\n",
              "      <td>-1.560000</td>\n",
              "      <td>5795.000000</td>\n",
              "      <td>-12.100000</td>\n",
              "      <td>17.900000</td>\n",
              "      <td>10330.000000</td>\n",
              "      <td>-55.000000</td>\n",
              "      <td>0.00</td>\n",
              "      <td>0.0</td>\n",
              "    </tr>\n",
              "    <tr>\n",
              "      <th>1</th>\n",
              "      <td>2.8</td>\n",
              "      <td>3.2</td>\n",
              "      <td>3.3</td>\n",
              "      <td>2.7</td>\n",
              "      <td>3.3</td>\n",
              "      <td>3.2</td>\n",
              "      <td>2.9</td>\n",
              "      <td>2.8</td>\n",
              "      <td>3.1</td>\n",
              "      <td>3.4</td>\n",
              "      <td>...</td>\n",
              "      <td>0.480000</td>\n",
              "      <td>8.390000</td>\n",
              "      <td>3.840000</td>\n",
              "      <td>5805.000000</td>\n",
              "      <td>14.050000</td>\n",
              "      <td>29.000000</td>\n",
              "      <td>10275.000000</td>\n",
              "      <td>-55.000000</td>\n",
              "      <td>0.00</td>\n",
              "      <td>0.0</td>\n",
              "    </tr>\n",
              "    <tr>\n",
              "      <th>2</th>\n",
              "      <td>2.9</td>\n",
              "      <td>2.8</td>\n",
              "      <td>2.6</td>\n",
              "      <td>2.1</td>\n",
              "      <td>2.2</td>\n",
              "      <td>2.5</td>\n",
              "      <td>2.5</td>\n",
              "      <td>2.7</td>\n",
              "      <td>2.2</td>\n",
              "      <td>2.5</td>\n",
              "      <td>...</td>\n",
              "      <td>0.600000</td>\n",
              "      <td>6.940000</td>\n",
              "      <td>9.800000</td>\n",
              "      <td>5790.000000</td>\n",
              "      <td>17.900000</td>\n",
              "      <td>41.300000</td>\n",
              "      <td>10235.000000</td>\n",
              "      <td>-40.000000</td>\n",
              "      <td>0.00</td>\n",
              "      <td>0.0</td>\n",
              "    </tr>\n",
              "    <tr>\n",
              "      <th>3</th>\n",
              "      <td>4.7</td>\n",
              "      <td>3.8</td>\n",
              "      <td>3.7</td>\n",
              "      <td>3.8</td>\n",
              "      <td>2.9</td>\n",
              "      <td>3.1</td>\n",
              "      <td>2.8</td>\n",
              "      <td>2.5</td>\n",
              "      <td>2.4</td>\n",
              "      <td>3.1</td>\n",
              "      <td>...</td>\n",
              "      <td>0.490000</td>\n",
              "      <td>8.730000</td>\n",
              "      <td>10.540000</td>\n",
              "      <td>5775.000000</td>\n",
              "      <td>31.150000</td>\n",
              "      <td>51.700000</td>\n",
              "      <td>10195.000000</td>\n",
              "      <td>-40.000000</td>\n",
              "      <td>2.08</td>\n",
              "      <td>0.0</td>\n",
              "    </tr>\n",
              "    <tr>\n",
              "      <th>4</th>\n",
              "      <td>2.6</td>\n",
              "      <td>2.1</td>\n",
              "      <td>1.6</td>\n",
              "      <td>1.4</td>\n",
              "      <td>0.9</td>\n",
              "      <td>1.5</td>\n",
              "      <td>1.2</td>\n",
              "      <td>1.4</td>\n",
              "      <td>1.3</td>\n",
              "      <td>1.4</td>\n",
              "      <td>...</td>\n",
              "      <td>0.304716</td>\n",
              "      <td>9.872418</td>\n",
              "      <td>0.830116</td>\n",
              "      <td>5818.821222</td>\n",
              "      <td>10.511051</td>\n",
              "      <td>37.388335</td>\n",
              "      <td>10164.198442</td>\n",
              "      <td>-0.119949</td>\n",
              "      <td>0.58</td>\n",
              "      <td>0.0</td>\n",
              "    </tr>\n",
              "  </tbody>\n",
              "</table>\n",
              "<p>5 rows × 73 columns</p>\n",
              "</div>"
            ],
            "text/plain": [
              "    0    1    2    3    4    5    6    7    8    9   ...        63         64  \\\n",
              "0  0.8  1.8  2.4  2.1  2.0  2.1  1.5  1.7  1.9  2.3  ...  0.150000  10.670000   \n",
              "1  2.8  3.2  3.3  2.7  3.3  3.2  2.9  2.8  3.1  3.4  ...  0.480000   8.390000   \n",
              "2  2.9  2.8  2.6  2.1  2.2  2.5  2.5  2.7  2.2  2.5  ...  0.600000   6.940000   \n",
              "3  4.7  3.8  3.7  3.8  2.9  3.1  2.8  2.5  2.4  3.1  ...  0.490000   8.730000   \n",
              "4  2.6  2.1  1.6  1.4  0.9  1.5  1.2  1.4  1.3  1.4  ...  0.304716   9.872418   \n",
              "\n",
              "          65           66         67         68            69         70  \\\n",
              "0  -1.560000  5795.000000 -12.100000  17.900000  10330.000000 -55.000000   \n",
              "1   3.840000  5805.000000  14.050000  29.000000  10275.000000 -55.000000   \n",
              "2   9.800000  5790.000000  17.900000  41.300000  10235.000000 -40.000000   \n",
              "3  10.540000  5775.000000  31.150000  51.700000  10195.000000 -40.000000   \n",
              "4   0.830116  5818.821222  10.511051  37.388335  10164.198442  -0.119949   \n",
              "\n",
              "     71   72  \n",
              "0  0.00  0.0  \n",
              "1  0.00  0.0  \n",
              "2  0.00  0.0  \n",
              "3  2.08  0.0  \n",
              "4  0.58  0.0  \n",
              "\n",
              "[5 rows x 73 columns]"
            ]
          },
          "execution_count": 10,
          "metadata": {},
          "output_type": "execute_result"
        }
      ]
    },
    {
      "cell_type": "code",
      "metadata": {
        "colab": {
          "base_uri": "https://localhost:8080/",
          "height": 408
        },
        "id": "91XXJjjT7tX7",
        "outputId": "cf5908b8-65e0-468f-978e-aab332e7b32b"
      },
      "source": [
        "#transform X by replacing the NaN values and converting it into a pandas DataFrame\n",
        "X = pd.DataFrame(imputer.fit_transform(X))\n",
        "#Assign Column Labels to each column of X\n",
        "X.columns=['Average Wind Speed','Average Temperature','Temeperature at 85 hpa','Relative Humidity at 85hpa','Sea Level Pressure','Precipitation']\n",
        "X"
      ],
      "execution_count": null,
      "outputs": [
        {
          "data": {
            "text/html": [
              "<div>\n",
              "<style scoped>\n",
              "    .dataframe tbody tr th:only-of-type {\n",
              "        vertical-align: middle;\n",
              "    }\n",
              "\n",
              "    .dataframe tbody tr th {\n",
              "        vertical-align: top;\n",
              "    }\n",
              "\n",
              "    .dataframe thead th {\n",
              "        text-align: right;\n",
              "    }\n",
              "</style>\n",
              "<table border=\"1\" class=\"dataframe\">\n",
              "  <thead>\n",
              "    <tr style=\"text-align: right;\">\n",
              "      <th></th>\n",
              "      <th>Average Wind Speed</th>\n",
              "      <th>Average Temperature</th>\n",
              "      <th>Temeperature at 85 hpa</th>\n",
              "      <th>Relative Humidity at 85hpa</th>\n",
              "      <th>Sea Level Pressure</th>\n",
              "      <th>Precipitation</th>\n",
              "    </tr>\n",
              "  </thead>\n",
              "  <tbody>\n",
              "    <tr>\n",
              "      <th>0</th>\n",
              "      <td>3.1</td>\n",
              "      <td>12.5</td>\n",
              "      <td>6.700000</td>\n",
              "      <td>0.11000</td>\n",
              "      <td>10330.000000</td>\n",
              "      <td>0.00</td>\n",
              "    </tr>\n",
              "    <tr>\n",
              "      <th>1</th>\n",
              "      <td>3.4</td>\n",
              "      <td>17.8</td>\n",
              "      <td>9.000000</td>\n",
              "      <td>0.25000</td>\n",
              "      <td>10275.000000</td>\n",
              "      <td>0.00</td>\n",
              "    </tr>\n",
              "    <tr>\n",
              "      <th>2</th>\n",
              "      <td>3.5</td>\n",
              "      <td>18.7</td>\n",
              "      <td>9.000000</td>\n",
              "      <td>0.56000</td>\n",
              "      <td>10235.000000</td>\n",
              "      <td>0.00</td>\n",
              "    </tr>\n",
              "    <tr>\n",
              "      <th>3</th>\n",
              "      <td>3.2</td>\n",
              "      <td>18.7</td>\n",
              "      <td>9.900000</td>\n",
              "      <td>0.89000</td>\n",
              "      <td>10195.000000</td>\n",
              "      <td>2.08</td>\n",
              "    </tr>\n",
              "    <tr>\n",
              "      <th>4</th>\n",
              "      <td>2.3</td>\n",
              "      <td>21.1</td>\n",
              "      <td>13.575298</td>\n",
              "      <td>0.57732</td>\n",
              "      <td>10164.198442</td>\n",
              "      <td>0.58</td>\n",
              "    </tr>\n",
              "    <tr>\n",
              "      <th>...</th>\n",
              "      <td>...</td>\n",
              "      <td>...</td>\n",
              "      <td>...</td>\n",
              "      <td>...</td>\n",
              "      <td>...</td>\n",
              "      <td>...</td>\n",
              "    </tr>\n",
              "    <tr>\n",
              "      <th>2529</th>\n",
              "      <td>1.6</td>\n",
              "      <td>7.7</td>\n",
              "      <td>5.500000</td>\n",
              "      <td>0.33000</td>\n",
              "      <td>10295.000000</td>\n",
              "      <td>0.00</td>\n",
              "    </tr>\n",
              "    <tr>\n",
              "      <th>2530</th>\n",
              "      <td>2.6</td>\n",
              "      <td>12.9</td>\n",
              "      <td>5.800000</td>\n",
              "      <td>0.27000</td>\n",
              "      <td>10310.000000</td>\n",
              "      <td>0.00</td>\n",
              "    </tr>\n",
              "    <tr>\n",
              "      <th>2531</th>\n",
              "      <td>1.9</td>\n",
              "      <td>17.7</td>\n",
              "      <td>7.500000</td>\n",
              "      <td>0.79000</td>\n",
              "      <td>10275.000000</td>\n",
              "      <td>0.00</td>\n",
              "    </tr>\n",
              "    <tr>\n",
              "      <th>2532</th>\n",
              "      <td>2.1</td>\n",
              "      <td>19.9</td>\n",
              "      <td>9.300000</td>\n",
              "      <td>0.66000</td>\n",
              "      <td>10245.000000</td>\n",
              "      <td>0.05</td>\n",
              "    </tr>\n",
              "    <tr>\n",
              "      <th>2533</th>\n",
              "      <td>2.5</td>\n",
              "      <td>20.7</td>\n",
              "      <td>10.100000</td>\n",
              "      <td>0.74000</td>\n",
              "      <td>10220.000000</td>\n",
              "      <td>0.00</td>\n",
              "    </tr>\n",
              "  </tbody>\n",
              "</table>\n",
              "<p>2534 rows × 6 columns</p>\n",
              "</div>"
            ],
            "text/plain": [
              "      Average Wind Speed  Average Temperature  Temeperature at 85 hpa  \\\n",
              "0                    3.1                 12.5                6.700000   \n",
              "1                    3.4                 17.8                9.000000   \n",
              "2                    3.5                 18.7                9.000000   \n",
              "3                    3.2                 18.7                9.900000   \n",
              "4                    2.3                 21.1               13.575298   \n",
              "...                  ...                  ...                     ...   \n",
              "2529                 1.6                  7.7                5.500000   \n",
              "2530                 2.6                 12.9                5.800000   \n",
              "2531                 1.9                 17.7                7.500000   \n",
              "2532                 2.1                 19.9                9.300000   \n",
              "2533                 2.5                 20.7               10.100000   \n",
              "\n",
              "      Relative Humidity at 85hpa  Sea Level Pressure  Precipitation  \n",
              "0                        0.11000        10330.000000           0.00  \n",
              "1                        0.25000        10275.000000           0.00  \n",
              "2                        0.56000        10235.000000           0.00  \n",
              "3                        0.89000        10195.000000           2.08  \n",
              "4                        0.57732        10164.198442           0.58  \n",
              "...                          ...                 ...            ...  \n",
              "2529                     0.33000        10295.000000           0.00  \n",
              "2530                     0.27000        10310.000000           0.00  \n",
              "2531                     0.79000        10275.000000           0.00  \n",
              "2532                     0.66000        10245.000000           0.05  \n",
              "2533                     0.74000        10220.000000           0.00  \n",
              "\n",
              "[2534 rows x 6 columns]"
            ]
          },
          "execution_count": 11,
          "metadata": {},
          "output_type": "execute_result"
        }
      ]
    },
    {
      "cell_type": "code",
      "metadata": {
        "colab": {
          "base_uri": "https://localhost:8080/",
          "height": 34
        },
        "id": "f4WgDCd97tao",
        "outputId": "4cfbe349-cb6c-421b-dc3d-1bc9cdbebd34"
      },
      "source": [
        "X.shape"
      ],
      "execution_count": null,
      "outputs": [
        {
          "data": {
            "text/plain": [
              "(2534, 6)"
            ]
          },
          "execution_count": 12,
          "metadata": {},
          "output_type": "execute_result"
        }
      ]
    },
    {
      "cell_type": "markdown",
      "metadata": {
        "id": "3zs-ifaPd4eA"
      },
      "source": [
        "# **Data Visualization**"
      ]
    },
    {
      "cell_type": "code",
      "metadata": {
        "colab": {
          "base_uri": "https://localhost:8080/",
          "height": 1000
        },
        "id": "FnfBS-XWc0zL",
        "outputId": "fd213fd2-3db3-490b-dfd9-41cb0d990cb5"
      },
      "source": [
        "fig = plt.figure(figsize = (25,25))\n",
        "#fig.subplots_adjust(top=0.85, wspace=0.3)\n",
        "\n",
        "# Histogram\n",
        "ax = fig.add_subplot(3, 2, 1)   # no of rows, no.of columns, index of the plot 1\n",
        "ax.set_xlabel(\"Average Temperature\")\n",
        "ax.set_ylabel(\"Frequency\") \n",
        "freq, bins, patches = ax.hist(X['Average Temperature'], color='steelblue', bins=15,\n",
        "                                    edgecolor='black', linewidth=1)\n",
        "\n",
        "ax = fig.add_subplot(3, 2, 2)\n",
        "ax.set_xlabel(\"Average Wind Speed\")\n",
        "ax.set_ylabel(\"Frequency\") \n",
        "freq, bins, patches = ax.hist(X['Average Wind Speed'], color='steelblue', bins=15,\n",
        "                                    edgecolor='black', linewidth=1)\n",
        "\n",
        "ax = fig.add_subplot(3, 2, 3)\n",
        "ax.set_xlabel(\"Temeperature at 85 hpa\")\n",
        "ax.set_ylabel(\"Frequency\") \n",
        "freq, bins, patches = ax.hist(X['Temeperature at 85 hpa'], color='steelblue', bins=15,\n",
        "                                    edgecolor='black', linewidth=1)\n",
        "\n",
        "ax = fig.add_subplot(3, 2, 4)\n",
        "ax.set_xlabel(\"Relative Humidity at 85hpa\")\n",
        "ax.set_ylabel(\"Frequency\") \n",
        "freq, bins, patches = ax.hist(X['Relative Humidity at 85hpa'], color='steelblue', bins=15,\n",
        "                                    edgecolor='black', linewidth=1)\n",
        "\n",
        "ax = fig.add_subplot(3, 2, 5)\n",
        "ax.set_xlabel(\"Sea Level Pressure\")\n",
        "ax.set_ylabel(\"Frequency\") \n",
        "freq, bins, patches = ax.hist(X['Sea Level Pressure'], color='steelblue', bins=15,\n",
        "                                    edgecolor='black', linewidth=1)\n",
        "\n",
        "ax = fig.add_subplot(3, 2, 6)\n",
        "ax.set_xlabel(\"Precipitation\")\n",
        "ax.set_ylabel(\"Frequency\") \n",
        "freq, bins, patches = ax.hist(X['Precipitation'], color='steelblue', bins=15,\n",
        "                                    edgecolor='black', linewidth=1)\n",
        "fig. tight_layout(pad=3.0)"
      ],
      "execution_count": null,
      "outputs": [
        {
          "data": {
            "image/png": "[encoded data removed]",
            "text/plain": [
              "<Figure size 1800x1800 with 6 Axes>"
            ]
          },
          "metadata": {
            "needs_background": "light"
          },
          "output_type": "display_data"
        }
      ]
    },
    {
      "cell_type": "code",
      "metadata": {
        "colab": {
          "base_uri": "https://localhost:8080/",
          "height": 458
        },
        "id": "EeaOmCgOpNpa",
        "outputId": "1cc0a2f9-0ff3-4870-d4e1-8c118ac580ae"
      },
      "source": [
        "fig = plt.figure(figsize =(10, 7)) \n",
        "  \n",
        "plt.hist(Y)  \n",
        "plt.xlabel('Ozone Level')\n",
        "plt.ylabel('Frequency')  \n",
        "plt.title(\"Ozone Level (Low (0) and High(1))\")  \n",
        "  \n",
        "# show plot \n",
        "plt.show() \n",
        "# 0 means low ozone level and 1 means high ozone level. It is good that most of the data show ozone levels are in the alloable limits. "
      ],
      "execution_count": null,
      "outputs": [
        {
          "data": {
            "image/png": "[encoded data removed]",
            "text/plain": [
              "<Figure size 720x504 with 1 Axes>"
            ]
          },
          "metadata": {
            "needs_background": "light"
          },
          "output_type": "display_data"
        }
      ]
    },
    {
      "cell_type": "code",
      "metadata": {
        "colab": {
          "base_uri": "https://localhost:8080/",
          "height": 450
        },
        "id": "VBi60ikx7tgO",
        "outputId": "1dd8b77d-b4d0-4e1a-e5d3-4723088e9587"
      },
      "source": [
        "plt.figure(figsize=(6,5))  # set the size of the figure \n",
        "p=sns.heatmap(X.corr(), annot=True,cmap ='RdYlGn')  # we use the seaborn library to plot the heatmap."
      ],
      "execution_count": null,
      "outputs": [
        {
          "data": {
            "image/png": "[encoded data removed]",
            "text/plain": [
              "<Figure size 432x360 with 2 Axes>"
            ]
          },
          "metadata": {
            "needs_background": "light"
          },
          "output_type": "display_data"
        }
      ]
    },
    {
      "cell_type": "code",
      "metadata": {
        "colab": {
          "base_uri": "https://localhost:8080/",
          "height": 288
        },
        "id": "FLS1F27LeZ8E",
        "outputId": "305765e0-1034-4ca4-b56c-e7054dc06f4f"
      },
      "source": [
        "X.describe()"
      ],
      "execution_count": null,
      "outputs": [
        {
          "data": {
            "text/html": [
              "<div>\n",
              "<style scoped>\n",
              "    .dataframe tbody tr th:only-of-type {\n",
              "        vertical-align: middle;\n",
              "    }\n",
              "\n",
              "    .dataframe tbody tr th {\n",
              "        vertical-align: top;\n",
              "    }\n",
              "\n",
              "    .dataframe thead th {\n",
              "        text-align: right;\n",
              "    }\n",
              "</style>\n",
              "<table border=\"1\" class=\"dataframe\">\n",
              "  <thead>\n",
              "    <tr style=\"text-align: right;\">\n",
              "      <th></th>\n",
              "      <th>Average Wind Speed</th>\n",
              "      <th>Average Temperature</th>\n",
              "      <th>Temeperature at 85 hpa</th>\n",
              "      <th>Relative Humidity at 85hpa</th>\n",
              "      <th>Sea Level Pressure</th>\n",
              "      <th>Precipitation</th>\n",
              "    </tr>\n",
              "  </thead>\n",
              "  <tbody>\n",
              "    <tr>\n",
              "      <th>count</th>\n",
              "      <td>2534.000000</td>\n",
              "      <td>2534.000000</td>\n",
              "      <td>2534.000000</td>\n",
              "      <td>2534.000000</td>\n",
              "      <td>2534.000000</td>\n",
              "      <td>2534.000000</td>\n",
              "    </tr>\n",
              "    <tr>\n",
              "      <th>mean</th>\n",
              "      <td>2.314949</td>\n",
              "      <td>20.840483</td>\n",
              "      <td>13.575298</td>\n",
              "      <td>0.577320</td>\n",
              "      <td>10164.198442</td>\n",
              "      <td>0.372026</td>\n",
              "    </tr>\n",
              "    <tr>\n",
              "      <th>std</th>\n",
              "      <td>0.871756</td>\n",
              "      <td>6.766376</td>\n",
              "      <td>4.777721</td>\n",
              "      <td>0.252778</td>\n",
              "      <td>51.428116</td>\n",
              "      <td>1.317438</td>\n",
              "    </tr>\n",
              "    <tr>\n",
              "      <th>min</th>\n",
              "      <td>0.400000</td>\n",
              "      <td>0.300000</td>\n",
              "      <td>-7.100000</td>\n",
              "      <td>0.010000</td>\n",
              "      <td>9975.000000</td>\n",
              "      <td>0.000000</td>\n",
              "    </tr>\n",
              "    <tr>\n",
              "      <th>25%</th>\n",
              "      <td>1.700000</td>\n",
              "      <td>16.500000</td>\n",
              "      <td>10.700000</td>\n",
              "      <td>0.400000</td>\n",
              "      <td>10130.000000</td>\n",
              "      <td>0.000000</td>\n",
              "    </tr>\n",
              "    <tr>\n",
              "      <th>50%</th>\n",
              "      <td>2.300000</td>\n",
              "      <td>21.400000</td>\n",
              "      <td>14.100000</td>\n",
              "      <td>0.620000</td>\n",
              "      <td>10160.000000</td>\n",
              "      <td>0.000000</td>\n",
              "    </tr>\n",
              "    <tr>\n",
              "      <th>75%</th>\n",
              "      <td>2.800000</td>\n",
              "      <td>26.500000</td>\n",
              "      <td>17.300000</td>\n",
              "      <td>0.790000</td>\n",
              "      <td>10190.000000</td>\n",
              "      <td>0.050000</td>\n",
              "    </tr>\n",
              "    <tr>\n",
              "      <th>max</th>\n",
              "      <td>6.400000</td>\n",
              "      <td>33.600000</td>\n",
              "      <td>24.500000</td>\n",
              "      <td>1.000000</td>\n",
              "      <td>10350.000000</td>\n",
              "      <td>20.650000</td>\n",
              "    </tr>\n",
              "  </tbody>\n",
              "</table>\n",
              "</div>"
            ],
            "text/plain": [
              "       Average Wind Speed  Average Temperature  Temeperature at 85 hpa  \\\n",
              "count         2534.000000          2534.000000             2534.000000   \n",
              "mean             2.314949            20.840483               13.575298   \n",
              "std              0.871756             6.766376                4.777721   \n",
              "min              0.400000             0.300000               -7.100000   \n",
              "25%              1.700000            16.500000               10.700000   \n",
              "50%              2.300000            21.400000               14.100000   \n",
              "75%              2.800000            26.500000               17.300000   \n",
              "max              6.400000            33.600000               24.500000   \n",
              "\n",
              "       Relative Humidity at 85hpa  Sea Level Pressure  Precipitation  \n",
              "count                 2534.000000         2534.000000    2534.000000  \n",
              "mean                     0.577320        10164.198442       0.372026  \n",
              "std                      0.252778           51.428116       1.317438  \n",
              "min                      0.010000         9975.000000       0.000000  \n",
              "25%                      0.400000        10130.000000       0.000000  \n",
              "50%                      0.620000        10160.000000       0.000000  \n",
              "75%                      0.790000        10190.000000       0.050000  \n",
              "max                      1.000000        10350.000000      20.650000  "
            ]
          },
          "execution_count": 16,
          "metadata": {},
          "output_type": "execute_result"
        }
      ]
    },
    {
      "cell_type": "markdown",
      "metadata": {
        "id": "N-4pHJiqHWUh"
      },
      "source": [
        "# **Naive Bayes**"
      ]
    },
    {
      "cell_type": "code",
      "metadata": {
        "id": "kXqmrIj-HYQv"
      },
      "source": [
        "from sklearn.naive_bayes import MultinomialNB"
      ],
      "execution_count": null,
      "outputs": []
    },
    {
      "cell_type": "markdown",
      "metadata": {
        "id": "sVA9-snJMYsU"
      },
      "source": [
        "**Data Preprocessing for Naive Bayes**"
      ]
    },
    {
      "cell_type": "code",
      "metadata": {
        "colab": {
          "base_uri": "https://localhost:8080/",
          "height": 198
        },
        "id": "1dBj6JGmKS08",
        "outputId": "f183df89-8e98-40a0-aff0-6e3bb95f3d8a"
      },
      "source": [
        "from sklearn import preprocessing\n",
        "min_max_scaler = preprocessing.MinMaxScaler()\n",
        "x_scaled = pd.DataFrame(min_max_scaler.fit_transform(X))\n",
        "x_scaled.head()"
      ],
      "execution_count": null,
      "outputs": [
        {
          "data": {
            "text/html": [
              "<div>\n",
              "<style scoped>\n",
              "    .dataframe tbody tr th:only-of-type {\n",
              "        vertical-align: middle;\n",
              "    }\n",
              "\n",
              "    .dataframe tbody tr th {\n",
              "        vertical-align: top;\n",
              "    }\n",
              "\n",
              "    .dataframe thead th {\n",
              "        text-align: right;\n",
              "    }\n",
              "</style>\n",
              "<table border=\"1\" class=\"dataframe\">\n",
              "  <thead>\n",
              "    <tr style=\"text-align: right;\">\n",
              "      <th></th>\n",
              "      <th>0</th>\n",
              "      <th>1</th>\n",
              "      <th>2</th>\n",
              "      <th>3</th>\n",
              "      <th>4</th>\n",
              "      <th>5</th>\n",
              "    </tr>\n",
              "  </thead>\n",
              "  <tbody>\n",
              "    <tr>\n",
              "      <th>0</th>\n",
              "      <td>0.450000</td>\n",
              "      <td>0.366366</td>\n",
              "      <td>0.436709</td>\n",
              "      <td>0.101010</td>\n",
              "      <td>0.946667</td>\n",
              "      <td>0.000000</td>\n",
              "    </tr>\n",
              "    <tr>\n",
              "      <th>1</th>\n",
              "      <td>0.500000</td>\n",
              "      <td>0.525526</td>\n",
              "      <td>0.509494</td>\n",
              "      <td>0.242424</td>\n",
              "      <td>0.800000</td>\n",
              "      <td>0.000000</td>\n",
              "    </tr>\n",
              "    <tr>\n",
              "      <th>2</th>\n",
              "      <td>0.516667</td>\n",
              "      <td>0.552553</td>\n",
              "      <td>0.509494</td>\n",
              "      <td>0.555556</td>\n",
              "      <td>0.693333</td>\n",
              "      <td>0.000000</td>\n",
              "    </tr>\n",
              "    <tr>\n",
              "      <th>3</th>\n",
              "      <td>0.466667</td>\n",
              "      <td>0.552553</td>\n",
              "      <td>0.537975</td>\n",
              "      <td>0.888889</td>\n",
              "      <td>0.586667</td>\n",
              "      <td>0.100726</td>\n",
              "    </tr>\n",
              "    <tr>\n",
              "      <th>4</th>\n",
              "      <td>0.316667</td>\n",
              "      <td>0.624625</td>\n",
              "      <td>0.654282</td>\n",
              "      <td>0.573050</td>\n",
              "      <td>0.504529</td>\n",
              "      <td>0.028087</td>\n",
              "    </tr>\n",
              "  </tbody>\n",
              "</table>\n",
              "</div>"
            ],
            "text/plain": [
              "          0         1         2         3         4         5\n",
              "0  0.450000  0.366366  0.436709  0.101010  0.946667  0.000000\n",
              "1  0.500000  0.525526  0.509494  0.242424  0.800000  0.000000\n",
              "2  0.516667  0.552553  0.509494  0.555556  0.693333  0.000000\n",
              "3  0.466667  0.552553  0.537975  0.888889  0.586667  0.100726\n",
              "4  0.316667  0.624625  0.654282  0.573050  0.504529  0.028087"
            ]
          },
          "execution_count": 18,
          "metadata": {},
          "output_type": "execute_result"
        }
      ]
    },
    {
      "cell_type": "code",
      "metadata": {
        "id": "axpT1xw4JH2t",
        "outputId": "00d62472-9b9e-495a-ccef-296f57b27d6c"
      },
      "source": [
        "x_scaled, Y"
      ],
      "execution_count": null,
      "outputs": [
        {
          "data": {
            "text/plain": [
              "(             0         1         2         3         4         5\n",
              " 0     0.450000  0.366366  0.436709  0.101010  0.946667  0.000000\n",
              " 1     0.500000  0.525526  0.509494  0.242424  0.800000  0.000000\n",
              " 2     0.516667  0.552553  0.509494  0.555556  0.693333  0.000000\n",
              " 3     0.466667  0.552553  0.537975  0.888889  0.586667  0.100726\n",
              " 4     0.316667  0.624625  0.654282  0.573050  0.504529  0.028087\n",
              " ...        ...       ...       ...       ...       ...       ...\n",
              " 2529  0.200000  0.222222  0.398734  0.323232  0.853333  0.000000\n",
              " 2530  0.366667  0.378378  0.408228  0.262626  0.893333  0.000000\n",
              " 2531  0.250000  0.522523  0.462025  0.787879  0.800000  0.000000\n",
              " 2532  0.283333  0.588589  0.518987  0.656566  0.720000  0.002421\n",
              " 2533  0.350000  0.612613  0.544304  0.737374  0.653333  0.000000\n",
              " \n",
              " [2534 rows x 6 columns],\n",
              " array([0, 0, 0, ..., 0, 0, 0]))"
            ]
          },
          "execution_count": 19,
          "metadata": {},
          "output_type": "execute_result"
        }
      ]
    },
    {
      "cell_type": "code",
      "metadata": {
        "colab": {
          "base_uri": "https://localhost:8080/",
          "height": 34
        },
        "id": "SdQVuf03skbE",
        "outputId": "059968ec-9273-422f-8867-8f4c3663f9f6"
      },
      "source": [
        "#split the data into train and test. Test data=1/3(total data)\n",
        "from sklearn.model_selection import train_test_split \n",
        "X_train1,X_test1,y_train1,y_test1 = train_test_split(x_scaled,Y,test_size=1/3,random_state=42, stratify=Y)\n",
        "\n",
        "model=MultinomialNB()\n",
        "\n",
        "#fit the training data \n",
        "model.fit(X_train1, y_train1)"
      ],
      "execution_count": null,
      "outputs": [
        {
          "data": {
            "text/plain": [
              "MultinomialNB()"
            ]
          },
          "execution_count": 20,
          "metadata": {},
          "output_type": "execute_result"
        }
      ]
    },
    {
      "cell_type": "code",
      "metadata": {
        "id": "iKgXopdlRyhs"
      },
      "source": [
        "#get the predicted labels for test data\n",
        "labels = model.predict(X_test1)"
      ],
      "execution_count": null,
      "outputs": []
    },
    {
      "cell_type": "code",
      "metadata": {
        "colab": {
          "base_uri": "https://localhost:8080/",
          "height": 34
        },
        "id": "ceD3EPTXtYNS",
        "outputId": "60241015-9ded-43c9-f75a-94460667a795"
      },
      "source": [
        "#predict the accuracy of the model on test data\n",
        "from sklearn.metrics import accuracy_score\n",
        "score = accuracy_score(y_test1, labels)\n",
        "print(score)"
      ],
      "execution_count": null,
      "outputs": [
        {
          "name": "stdout",
          "output_type": "stream",
          "text": [
            "0.9372781065088758\n"
          ]
        }
      ]
    },
    {
      "cell_type": "code",
      "metadata": {
        "colab": {
          "base_uri": "https://localhost:8080/",
          "height": 279
        },
        "id": "xVixG4JYUOUD",
        "outputId": "1ae5ea70-f91b-4a7d-b958-f686927eb4a6"
      },
      "source": [
        "#build a confusion matrix to visualize the performance of the model using seaborn\n",
        "from sklearn.metrics import confusion_matrix\n",
        "mat = confusion_matrix(y_test1, labels)\n",
        "sns.heatmap(mat.T, square=True, annot=True, fmt='d', cbar=False,\n",
        "            )\n",
        "plt.xlabel('true label')\n",
        "plt.ylabel('predicted label');"
      ],
      "execution_count": null,
      "outputs": [
        {
          "data": {
            "image/png": "[encoded data removed]",
            "text/plain": [
              "<Figure size 432x288 with 1 Axes>"
            ]
          },
          "metadata": {
            "needs_background": "light"
          },
          "output_type": "display_data"
        }
      ]
    },
    {
      "cell_type": "code",
      "metadata": {
        "colab": {
          "base_uri": "https://localhost:8080/",
          "height": 224
        },
        "id": "NgUp1kkNw-A0",
        "outputId": "a42e60d2-64ea-4f00-e000-5e85ce6c40ad"
      },
      "source": [
        "from sklearn.metrics import classification_report\n",
        "print(classification_report(y_test1,labels))"
      ],
      "execution_count": null,
      "outputs": [
        {
          "name": "stdout",
          "output_type": "stream",
          "text": [
            "              precision    recall  f1-score   support\n",
            "\n",
            "           0       0.94      1.00      0.97       792\n",
            "           1       0.00      0.00      0.00        53\n",
            "\n",
            "    accuracy                           0.94       845\n",
            "   macro avg       0.47      0.50      0.48       845\n",
            "weighted avg       0.88      0.94      0.91       845\n",
            "\n"
          ]
        },
        {
          "name": "stderr",
          "output_type": "stream",
          "text": [
            "/home/vix/.local/lib/python3.8/site-packages/sklearn/metrics/_classification.py:1221: UndefinedMetricWarning: Precision and F-score are ill-defined and being set to 0.0 in labels with no predicted samples. Use `zero_division` parameter to control this behavior.\n",
            "  _warn_prf(average, modifier, msg_start, len(result))\n"
          ]
        }
      ]
    },
    {
      "cell_type": "markdown",
      "metadata": {
        "id": "fxzQLFbChQW7"
      },
      "source": [
        "# **K-Nearest Neighbours Algorithm**"
      ]
    },
    {
      "cell_type": "markdown",
      "metadata": {
        "id": "6VNINZHHe7th"
      },
      "source": [
        "Input X and output Y are from the Naive Bayes exercise ( We are continuing with the same dataset)"
      ]
    },
    {
      "cell_type": "code",
      "metadata": {
        "id": "C7CGaZvJ64rz"
      },
      "source": [
        "#standardizing the input\n",
        "x_std = (X-X.mean())/(X.std()) "
      ],
      "execution_count": null,
      "outputs": []
    },
    {
      "cell_type": "code",
      "metadata": {
        "colab": {
          "base_uri": "https://localhost:8080/",
          "height": 204
        },
        "id": "5EJvqyEv65I1",
        "outputId": "5459ae93-0afd-4489-eec2-8722a4eca050"
      },
      "source": [
        "x_std.head()"
      ],
      "execution_count": null,
      "outputs": [
        {
          "data": {
            "text/html": [
              "<div>\n",
              "<style scoped>\n",
              "    .dataframe tbody tr th:only-of-type {\n",
              "        vertical-align: middle;\n",
              "    }\n",
              "\n",
              "    .dataframe tbody tr th {\n",
              "        vertical-align: top;\n",
              "    }\n",
              "\n",
              "    .dataframe thead th {\n",
              "        text-align: right;\n",
              "    }\n",
              "</style>\n",
              "<table border=\"1\" class=\"dataframe\">\n",
              "  <thead>\n",
              "    <tr style=\"text-align: right;\">\n",
              "      <th></th>\n",
              "      <th>Average Wind Speed</th>\n",
              "      <th>Average Temperature</th>\n",
              "      <th>Temeperature at 85 hpa</th>\n",
              "      <th>Relative Humidity at 85hpa</th>\n",
              "      <th>Sea Level Pressure</th>\n",
              "      <th>Precipitation</th>\n",
              "    </tr>\n",
              "  </thead>\n",
              "  <tbody>\n",
              "    <tr>\n",
              "      <th>0</th>\n",
              "      <td>0.900540</td>\n",
              "      <td>-1.232637</td>\n",
              "      <td>-1.439033e+00</td>\n",
              "      <td>-1.848735e+00</td>\n",
              "      <td>3.223948e+00</td>\n",
              "      <td>-0.282386</td>\n",
              "    </tr>\n",
              "    <tr>\n",
              "      <th>1</th>\n",
              "      <td>1.244673</td>\n",
              "      <td>-0.449352</td>\n",
              "      <td>-9.576318e-01</td>\n",
              "      <td>-1.294890e+00</td>\n",
              "      <td>2.154494e+00</td>\n",
              "      <td>-0.282386</td>\n",
              "    </tr>\n",
              "    <tr>\n",
              "      <th>2</th>\n",
              "      <td>1.359384</td>\n",
              "      <td>-0.316341</td>\n",
              "      <td>-9.576318e-01</td>\n",
              "      <td>-6.851811e-02</td>\n",
              "      <td>1.376709e+00</td>\n",
              "      <td>-0.282386</td>\n",
              "    </tr>\n",
              "    <tr>\n",
              "      <th>3</th>\n",
              "      <td>1.015251</td>\n",
              "      <td>-0.316341</td>\n",
              "      <td>-7.692575e-01</td>\n",
              "      <td>1.236974e+00</td>\n",
              "      <td>5.989245e-01</td>\n",
              "      <td>1.296436</td>\n",
              "    </tr>\n",
              "    <tr>\n",
              "      <th>4</th>\n",
              "      <td>-0.017148</td>\n",
              "      <td>0.038354</td>\n",
              "      <td>-7.436000e-16</td>\n",
              "      <td>5.709709e-15</td>\n",
              "      <td>-2.829564e-13</td>\n",
              "      <td>0.157862</td>\n",
              "    </tr>\n",
              "  </tbody>\n",
              "</table>\n",
              "</div>"
            ],
            "text/plain": [
              "   Average Wind Speed  Average Temperature  Temeperature at 85 hpa  \\\n",
              "0            0.900540            -1.232637           -1.439033e+00   \n",
              "1            1.244673            -0.449352           -9.576318e-01   \n",
              "2            1.359384            -0.316341           -9.576318e-01   \n",
              "3            1.015251            -0.316341           -7.692575e-01   \n",
              "4           -0.017148             0.038354           -7.436000e-16   \n",
              "\n",
              "   Relative Humidity at 85hpa  Sea Level Pressure  Precipitation  \n",
              "0               -1.848735e+00        3.223948e+00      -0.282386  \n",
              "1               -1.294890e+00        2.154494e+00      -0.282386  \n",
              "2               -6.851811e-02        1.376709e+00      -0.282386  \n",
              "3                1.236974e+00        5.989245e-01       1.296436  \n",
              "4                5.709709e-15       -2.829564e-13       0.157862  "
            ]
          },
          "execution_count": 26,
          "metadata": {},
          "output_type": "execute_result"
        }
      ]
    },
    {
      "cell_type": "code",
      "metadata": {
        "colab": {
          "base_uri": "https://localhost:8080/",
          "height": 297
        },
        "id": "AsalLD6Jef9Y",
        "outputId": "b561f6de-021d-4afc-a46a-abcfc5eb5124"
      },
      "source": [
        "x_std. describe()"
      ],
      "execution_count": null,
      "outputs": [
        {
          "data": {
            "text/html": [
              "<div>\n",
              "<style scoped>\n",
              "    .dataframe tbody tr th:only-of-type {\n",
              "        vertical-align: middle;\n",
              "    }\n",
              "\n",
              "    .dataframe tbody tr th {\n",
              "        vertical-align: top;\n",
              "    }\n",
              "\n",
              "    .dataframe thead th {\n",
              "        text-align: right;\n",
              "    }\n",
              "</style>\n",
              "<table border=\"1\" class=\"dataframe\">\n",
              "  <thead>\n",
              "    <tr style=\"text-align: right;\">\n",
              "      <th></th>\n",
              "      <th>Average Wind Speed</th>\n",
              "      <th>Average Temperature</th>\n",
              "      <th>Temeperature at 85 hpa</th>\n",
              "      <th>Relative Humidity at 85hpa</th>\n",
              "      <th>Sea Level Pressure</th>\n",
              "      <th>Precipitation</th>\n",
              "    </tr>\n",
              "  </thead>\n",
              "  <tbody>\n",
              "    <tr>\n",
              "      <th>count</th>\n",
              "      <td>2.534000e+03</td>\n",
              "      <td>2.534000e+03</td>\n",
              "      <td>2.534000e+03</td>\n",
              "      <td>2.534000e+03</td>\n",
              "      <td>2.534000e+03</td>\n",
              "      <td>2.534000e+03</td>\n",
              "    </tr>\n",
              "    <tr>\n",
              "      <th>mean</th>\n",
              "      <td>-2.142284e-15</td>\n",
              "      <td>-2.710381e-14</td>\n",
              "      <td>-1.116006e-15</td>\n",
              "      <td>5.849219e-15</td>\n",
              "      <td>-2.733837e-13</td>\n",
              "      <td>9.141158e-16</td>\n",
              "    </tr>\n",
              "    <tr>\n",
              "      <th>std</th>\n",
              "      <td>1.000000e+00</td>\n",
              "      <td>1.000000e+00</td>\n",
              "      <td>1.000000e+00</td>\n",
              "      <td>1.000000e+00</td>\n",
              "      <td>1.000000e+00</td>\n",
              "      <td>1.000000e+00</td>\n",
              "    </tr>\n",
              "    <tr>\n",
              "      <th>min</th>\n",
              "      <td>-2.196657e+00</td>\n",
              "      <td>-3.035670e+00</td>\n",
              "      <td>-4.327439e+00</td>\n",
              "      <td>-2.244339e+00</td>\n",
              "      <td>-3.678891e+00</td>\n",
              "      <td>-2.823860e-01</td>\n",
              "    </tr>\n",
              "    <tr>\n",
              "      <th>25%</th>\n",
              "      <td>-7.054143e-01</td>\n",
              "      <td>-6.414783e-01</td>\n",
              "      <td>-6.018136e-01</td>\n",
              "      <td>-7.014841e-01</td>\n",
              "      <td>-6.649756e-01</td>\n",
              "      <td>-2.823860e-01</td>\n",
              "    </tr>\n",
              "    <tr>\n",
              "      <th>50%</th>\n",
              "      <td>-1.714831e-02</td>\n",
              "      <td>8.269076e-02</td>\n",
              "      <td>1.098227e-01</td>\n",
              "      <td>1.688441e-01</td>\n",
              "      <td>-8.163709e-02</td>\n",
              "      <td>-2.823860e-01</td>\n",
              "    </tr>\n",
              "    <tr>\n",
              "      <th>75%</th>\n",
              "      <td>5.564067e-01</td>\n",
              "      <td>8.364178e-01</td>\n",
              "      <td>7.795981e-01</td>\n",
              "      <td>8.413704e-01</td>\n",
              "      <td>5.017014e-01</td>\n",
              "      <td>-2.444335e-01</td>\n",
              "    </tr>\n",
              "    <tr>\n",
              "      <th>max</th>\n",
              "      <td>4.686003e+00</td>\n",
              "      <td>1.885724e+00</td>\n",
              "      <td>2.286593e+00</td>\n",
              "      <td>1.672138e+00</td>\n",
              "      <td>3.612840e+00</td>\n",
              "      <td>1.539197e+01</td>\n",
              "    </tr>\n",
              "  </tbody>\n",
              "</table>\n",
              "</div>"
            ],
            "text/plain": [
              "       Average Wind Speed  Average Temperature  Temeperature at 85 hpa  \\\n",
              "count        2.534000e+03         2.534000e+03            2.534000e+03   \n",
              "mean        -2.142284e-15        -2.710381e-14           -1.116006e-15   \n",
              "std          1.000000e+00         1.000000e+00            1.000000e+00   \n",
              "min         -2.196657e+00        -3.035670e+00           -4.327439e+00   \n",
              "25%         -7.054143e-01        -6.414783e-01           -6.018136e-01   \n",
              "50%         -1.714831e-02         8.269076e-02            1.098227e-01   \n",
              "75%          5.564067e-01         8.364178e-01            7.795981e-01   \n",
              "max          4.686003e+00         1.885724e+00            2.286593e+00   \n",
              "\n",
              "       Relative Humidity at 85hpa  Sea Level Pressure  Precipitation  \n",
              "count                2.534000e+03        2.534000e+03   2.534000e+03  \n",
              "mean                 5.849219e-15       -2.733837e-13   9.141158e-16  \n",
              "std                  1.000000e+00        1.000000e+00   1.000000e+00  \n",
              "min                 -2.244339e+00       -3.678891e+00  -2.823860e-01  \n",
              "25%                 -7.014841e-01       -6.649756e-01  -2.823860e-01  \n",
              "50%                  1.688441e-01       -8.163709e-02  -2.823860e-01  \n",
              "75%                  8.413704e-01        5.017014e-01  -2.444335e-01  \n",
              "max                  1.672138e+00        3.612840e+00   1.539197e+01  "
            ]
          },
          "execution_count": 27,
          "metadata": {},
          "output_type": "execute_result"
        }
      ]
    },
    {
      "cell_type": "code",
      "metadata": {
        "id": "sTRYXMg09oNL"
      },
      "source": [
        "#split the data into train and test. Test data=1/3(total data)\n",
        "X_train,X_test,y_train,y_test = train_test_split(x_std,Y,test_size=1/3,random_state=42) #set random state to any integer for reproducibilty"
      ],
      "execution_count": null,
      "outputs": []
    },
    {
      "cell_type": "code",
      "metadata": {
        "id": "tikK9NE692Er"
      },
      "source": [
        "#import KNeighboursClassifier from the sklearn library\n",
        "from sklearn.neighbors import KNeighborsClassifier\n",
        "test_scores = []\n",
        "train_scores = []\n",
        "\n",
        "#run this for loop to find the best k value\n",
        "for i in range(1,15):\n",
        "    #for the current loop assign k=i\n",
        "    knn = KNeighborsClassifier(i)\n",
        "    #the training data\n",
        "    knn.fit(X_train,y_train)\n",
        "    #predict the class label for the training data\n",
        "    pred_y_train=knn.predict(X_train)\n",
        "    #get the training accuracy\n",
        "    train_accuracy=accuracy_score(pred_y_train,y_train)\n",
        "    #append the training accuracy at a particular k value to the list.\n",
        "    train_scores.append(train_accuracy)\n",
        "\n",
        "    #predict the class label for test data\n",
        "    pred_y_test=knn.predict(X_test)\n",
        "    #get the test accuracy\n",
        "    test_accuracy=accuracy_score(pred_y_test,y_test)\n",
        "    #append the test accuracy at a particular k value to the list.\n",
        "    test_scores.append(test_accuracy)"
      ],
      "execution_count": null,
      "outputs": []
    },
    {
      "cell_type": "code",
      "metadata": {
        "colab": {
          "base_uri": "https://localhost:8080/",
          "height": 255
        },
        "id": "NPhlzhxuANl3",
        "outputId": "5b110343-0bdb-4abe-be9f-3a568ebaa06d"
      },
      "source": [
        "train_scores"
      ],
      "execution_count": null,
      "outputs": [
        {
          "data": {
            "text/plain": [
              "[1.0,\n",
              " 0.9508584961515689,\n",
              " 0.9538188277087034,\n",
              " 0.9413854351687388,\n",
              " 0.9425695677915926,\n",
              " 0.9360568383658969,\n",
              " 0.9396092362344582,\n",
              " 0.9402013025458852,\n",
              " 0.9425695677915926,\n",
              " 0.9384251036116045,\n",
              " 0.9402013025458852,\n",
              " 0.9390171699230314,\n",
              " 0.9396092362344582,\n",
              " 0.9384251036116045]"
            ]
          },
          "execution_count": 30,
          "metadata": {},
          "output_type": "execute_result"
        }
      ]
    },
    {
      "cell_type": "code",
      "metadata": {
        "colab": {
          "base_uri": "https://localhost:8080/",
          "height": 255
        },
        "id": "iyaAdTKXnqjW",
        "outputId": "c237cddb-7f57-48f7-d765-1e940f210bbf"
      },
      "source": [
        "test_scores"
      ],
      "execution_count": null,
      "outputs": [
        {
          "data": {
            "text/plain": [
              "[0.9136094674556213,\n",
              " 0.9396449704142011,\n",
              " 0.9313609467455621,\n",
              " 0.9396449704142011,\n",
              " 0.9337278106508876,\n",
              " 0.9384615384615385,\n",
              " 0.9349112426035503,\n",
              " 0.9396449704142011,\n",
              " 0.9372781065088758,\n",
              " 0.9372781065088758,\n",
              " 0.9349112426035503,\n",
              " 0.9372781065088758,\n",
              " 0.9349112426035503,\n",
              " 0.9349112426035503]"
            ]
          },
          "execution_count": 31,
          "metadata": {},
          "output_type": "execute_result"
        }
      ]
    },
    {
      "cell_type": "code",
      "metadata": {
        "colab": {
          "base_uri": "https://localhost:8080/",
          "height": 351
        },
        "id": "18IYfaidAiHt",
        "outputId": "07eb0c16-a20e-4706-9cb8-3408e96c01d1"
      },
      "source": [
        "plt.figure(figsize=(12,5))\n",
        "p = sns.lineplot(range(1,15),train_scores,marker='*',label='Train Score')\n",
        "p = sns.lineplot(range(1,15),test_scores,marker='o',label='Test Score')\n",
        "plt.xlabel(\"K\")\n",
        "plt.ylabel(\"Accuracy\")"
      ],
      "execution_count": null,
      "outputs": [
        {
          "name": "stderr",
          "output_type": "stream",
          "text": [
            "/home/vix/.local/lib/python3.8/site-packages/seaborn/_decorators.py:36: FutureWarning: Pass the following variables as keyword args: x, y. From version 0.12, the only valid positional argument will be `data`, and passing other arguments without an explicit keyword will result in an error or misinterpretation.\n",
            "  warnings.warn(\n",
            "/home/vix/.local/lib/python3.8/site-packages/seaborn/_decorators.py:36: FutureWarning: Pass the following variables as keyword args: x, y. From version 0.12, the only valid positional argument will be `data`, and passing other arguments without an explicit keyword will result in an error or misinterpretation.\n",
            "  warnings.warn(\n"
          ]
        },
        {
          "data": {
            "text/plain": [
              "Text(0, 0.5, 'Accuracy')"
            ]
          },
          "execution_count": 32,
          "metadata": {},
          "output_type": "execute_result"
        },
        {
          "data": {
            "image/png": "[encoded data removed]",
            "text/plain": [
              "<Figure size 864x360 with 1 Axes>"
            ]
          },
          "metadata": {
            "needs_background": "light"
          },
          "output_type": "display_data"
        }
      ]
    },
    {
      "cell_type": "markdown",
      "metadata": {
        "id": "a_ccQd8cnkvk"
      },
      "source": [
        "Looking at the Plot we can see that best performance of the knn classifier is at k=4. Both training score and test score are close to each other and also maximum for the test score. Hence we set up our knn classifier with k=4.\n"
      ]
    },
    {
      "cell_type": "code",
      "metadata": {
        "colab": {
          "base_uri": "https://localhost:8080/",
          "height": 34
        },
        "id": "q1lFSIARAyoW",
        "outputId": "715aa9cd-003b-4eac-af15-b49f4199f082"
      },
      "source": [
        "#Setup a knn classifier with k neighbors\n",
        "knn = KNeighborsClassifier(4)\n",
        "\n",
        "knn.fit(X_train,y_train)\n",
        "knn.score(X_test,y_test)"
      ],
      "execution_count": null,
      "outputs": [
        {
          "data": {
            "text/plain": [
              "0.9396449704142011"
            ]
          },
          "execution_count": 33,
          "metadata": {},
          "output_type": "execute_result"
        }
      ]
    },
    {
      "cell_type": "code",
      "metadata": {
        "id": "-KcssU_yB57H"
      },
      "source": [
        "#select a sample from the test data to predict the output using the developed knn classifier, just selecting one row corresponds to a one set of coniditons \n",
        "t=X_test.values[0]"
      ],
      "execution_count": null,
      "outputs": []
    },
    {
      "cell_type": "code",
      "metadata": {
        "colab": {
          "base_uri": "https://localhost:8080/",
          "height": 51
        },
        "id": "mELfR7J9rzIS",
        "outputId": "90ab34f0-47e1-4f03-b4ff-d4adad677d7a"
      },
      "source": [
        "t"
      ],
      "execution_count": null,
      "outputs": [
        {
          "data": {
            "text/plain": [
              "array([ 0.67111772,  0.73296504,  0.25633606,  0.08972338, -0.47052942,\n",
              "       -0.28238597])"
            ]
          },
          "execution_count": 35,
          "metadata": {},
          "output_type": "execute_result"
        }
      ]
    },
    {
      "cell_type": "code",
      "metadata": {
        "colab": {
          "base_uri": "https://localhost:8080/",
          "height": 51
        },
        "id": "WiJWbpWwCfzd",
        "outputId": "518af06e-4d7a-436f-9991-ef724f6fc239"
      },
      "source": [
        "print(\"Predicted Class: \",knn.predict(t.reshape(1,-1)))\n",
        "print(\"True Class: \",y_test[0])"
      ],
      "execution_count": null,
      "outputs": [
        {
          "name": "stdout",
          "output_type": "stream",
          "text": [
            "Predicted Class:  [0]\n",
            "True Class:  0\n"
          ]
        }
      ]
    },
    {
      "cell_type": "markdown",
      "metadata": {
        "id": "-Euowsw9oYzP"
      },
      "source": [
        "The accuracy alone is not  good enough to measure the classifier's performance. We have studied other metrics like precision, recall and f-score in the class, so let us look at how to calculate these metrics."
      ]
    },
    {
      "cell_type": "code",
      "metadata": {
        "colab": {
          "base_uri": "https://localhost:8080/",
          "height": 279
        },
        "id": "32TjFPmNDcIX",
        "outputId": "2e7f198b-496d-4f73-86c9-3861659da300"
      },
      "source": [
        "y_pred = knn.predict(X_test)\n",
        "#build a confusion matrix to visualize the performance of the model using seaborn\n",
        "mat = confusion_matrix(y_test, y_pred)\n",
        "sns.heatmap(mat.T, square=True, annot=True, fmt='d', cbar=False,\n",
        "            )\n",
        "plt.xlabel('true label')\n",
        "plt.ylabel('predicted label');"
      ],
      "execution_count": null,
      "outputs": [
        {
          "data": {
            "image/png": "[encoded data removed]",
            "text/plain": [
              "<Figure size 432x288 with 1 Axes>"
            ]
          },
          "metadata": {
            "needs_background": "light"
          },
          "output_type": "display_data"
        }
      ]
    }
  ]
}
